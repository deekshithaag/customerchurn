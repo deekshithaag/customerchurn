{
 "cells": [
  {
   "attachments": {},
   "cell_type": "markdown",
   "id": "92e48866",
   "metadata": {},
   "source": [
    "## Model Training"
   ]
  },
  {
   "attachments": {},
   "cell_type": "markdown",
   "id": "25791a74",
   "metadata": {},
   "source": [
    "#### 1.1 Import Data and Required Packages\n",
    "##### Importing Pandas, Numpy, Matplotlib, Seaborn and Warings Library."
   ]
  },
  {
   "cell_type": "code",
   "execution_count": 2,
   "id": "b080dfb2",
   "metadata": {},
   "outputs": [],
   "source": [
    "import pandas as pd\n",
    "import numpy as np\n",
    "import matplotlib.pyplot as plt\n",
    "import seaborn as sns\n",
    "import warnings\n",
    "warnings.filterwarnings('ignore') \n",
    "plt.rcParams['figure.figsize']=[15,8]\n",
    "from sklearn.linear_model import LogisticRegression\n",
    "from sklearn.tree import DecisionTreeClassifier\n",
    "from sklearn.ensemble import RandomForestClassifier,BaggingClassifier, AdaBoostClassifier, GradientBoostingClassifier,StackingClassifier,VotingClassifier\n",
    "from sklearn.naive_bayes import GaussianNB\n",
    "from sklearn.neighbors import KNeighborsClassifier\n",
    "from sklearn.model_selection import train_test_split,GridSearchCV,KFold,cross_val_score\n",
    "from sklearn.preprocessing import StandardScaler,MinMaxScaler\n",
    "from xgboost import XGBClassifier\n",
    "#from lightgbm import LGBMClassifier\n",
    "from sklearn.metrics import accuracy_score,classification_report,confusion_matrix,roc_auc_score,roc_curve, precision_score, recall_score, f1_score, cohen_kappa_score"
   ]
  },
  {
   "cell_type": "code",
   "execution_count": 4,
   "id": "2003bb8f",
   "metadata": {},
   "outputs": [
    {
     "name": "stdout",
     "output_type": "stream",
     "text": [
      "Requirement already satisfied: lightgbm in /Users/deekshitha/Desktop/Projects/customerchurn/venv12/lib/python3.8/site-packages (4.0.0)\n",
      "Requirement already satisfied: numpy in /Users/deekshitha/Desktop/Projects/customerchurn/venv12/lib/python3.8/site-packages (from lightgbm) (1.24.4)\n",
      "Requirement already satisfied: scipy in /Users/deekshitha/Desktop/Projects/customerchurn/venv12/lib/python3.8/site-packages (from lightgbm) (1.10.1)\n",
      "Note: you may need to restart the kernel to use updated packages.\n"
     ]
    }
   ],
   "source": [
    "pip install lightgbm"
   ]
  },
  {
   "cell_type": "code",
   "execution_count": 2,
   "id": "ca6722e3",
   "metadata": {},
   "outputs": [],
   "source": [
    "#from lightgbm import LGBMClassifier"
   ]
  },
  {
   "attachments": {},
   "cell_type": "markdown",
   "id": "e45079ad",
   "metadata": {},
   "source": [
    "#### Import the CSV Data as Pandas DataFrame"
   ]
  },
  {
   "cell_type": "code",
   "execution_count": 26,
   "id": "e11c6255",
   "metadata": {},
   "outputs": [],
   "source": [
    "df = pd.read_excel('CHURNDATA (1).xlsx')"
   ]
  },
  {
   "attachments": {},
   "cell_type": "markdown",
   "id": "20634923",
   "metadata": {},
   "source": [
    "#### Show Top 5 Records"
   ]
  },
  {
   "cell_type": "code",
   "execution_count": 27,
   "id": "e7e412a2",
   "metadata": {},
   "outputs": [
    {
     "data": {
      "text/html": [
       "<div>\n",
       "<style scoped>\n",
       "    .dataframe tbody tr th:only-of-type {\n",
       "        vertical-align: middle;\n",
       "    }\n",
       "\n",
       "    .dataframe tbody tr th {\n",
       "        vertical-align: top;\n",
       "    }\n",
       "\n",
       "    .dataframe thead th {\n",
       "        text-align: right;\n",
       "    }\n",
       "</style>\n",
       "<table border=\"1\" class=\"dataframe\">\n",
       "  <thead>\n",
       "    <tr style=\"text-align: right;\">\n",
       "      <th></th>\n",
       "      <th>CIF</th>\n",
       "      <th>CUS_DOB</th>\n",
       "      <th>AGE</th>\n",
       "      <th>CUS_Month_Income</th>\n",
       "      <th>CUS_Gender</th>\n",
       "      <th>CUS_Marital_Status</th>\n",
       "      <th>CUS_Customer_Since</th>\n",
       "      <th>YEARS_WITH_US</th>\n",
       "      <th># total debit transactions for S1</th>\n",
       "      <th># total debit transactions for S2</th>\n",
       "      <th>...</th>\n",
       "      <th>total credit amount for S2</th>\n",
       "      <th>total credit amount for S3</th>\n",
       "      <th>total debit amount</th>\n",
       "      <th>total debit transactions</th>\n",
       "      <th>total credit amount</th>\n",
       "      <th>total credit transactions</th>\n",
       "      <th>total transactions</th>\n",
       "      <th>CUS_Target</th>\n",
       "      <th>TAR_Desc</th>\n",
       "      <th>Status</th>\n",
       "    </tr>\n",
       "  </thead>\n",
       "  <tbody>\n",
       "    <tr>\n",
       "      <th>0</th>\n",
       "      <td>XXXXXX</td>\n",
       "      <td>Feb 13 1970 12:00AM</td>\n",
       "      <td>49</td>\n",
       "      <td>7116.64</td>\n",
       "      <td>MALE</td>\n",
       "      <td>MARRIED</td>\n",
       "      <td>1994-06-30</td>\n",
       "      <td>25</td>\n",
       "      <td>277</td>\n",
       "      <td>265</td>\n",
       "      <td>...</td>\n",
       "      <td>1764079.61</td>\n",
       "      <td>2378592.62</td>\n",
       "      <td>4758311.63</td>\n",
       "      <td>887</td>\n",
       "      <td>5659653.33</td>\n",
       "      <td>65</td>\n",
       "      <td>952</td>\n",
       "      <td>2231</td>\n",
       "      <td>EXECUTIVE</td>\n",
       "      <td>ACTIVE</td>\n",
       "    </tr>\n",
       "    <tr>\n",
       "      <th>1</th>\n",
       "      <td>XXXXXX</td>\n",
       "      <td>Sep 20 1973 12:00AM</td>\n",
       "      <td>46</td>\n",
       "      <td>1500000.00</td>\n",
       "      <td>FEMALE</td>\n",
       "      <td>SINGLE</td>\n",
       "      <td>2005-05-19</td>\n",
       "      <td>14</td>\n",
       "      <td>37</td>\n",
       "      <td>15</td>\n",
       "      <td>...</td>\n",
       "      <td>19500.00</td>\n",
       "      <td>57500.00</td>\n",
       "      <td>139363.22</td>\n",
       "      <td>97</td>\n",
       "      <td>87000.00</td>\n",
       "      <td>10</td>\n",
       "      <td>107</td>\n",
       "      <td>2223</td>\n",
       "      <td>LOW</td>\n",
       "      <td>ACTIVE</td>\n",
       "    </tr>\n",
       "    <tr>\n",
       "      <th>2</th>\n",
       "      <td>XXXXXX</td>\n",
       "      <td>Jul 18 1966 12:00AM</td>\n",
       "      <td>53</td>\n",
       "      <td>5000000.00</td>\n",
       "      <td>FEMALE</td>\n",
       "      <td>SINGLE</td>\n",
       "      <td>2005-05-20</td>\n",
       "      <td>14</td>\n",
       "      <td>31</td>\n",
       "      <td>14</td>\n",
       "      <td>...</td>\n",
       "      <td>240311.84</td>\n",
       "      <td>70946.86</td>\n",
       "      <td>37375.46</td>\n",
       "      <td>53</td>\n",
       "      <td>1020883.70</td>\n",
       "      <td>27</td>\n",
       "      <td>80</td>\n",
       "      <td>2222</td>\n",
       "      <td>MIDLE</td>\n",
       "      <td>ACTIVE</td>\n",
       "    </tr>\n",
       "    <tr>\n",
       "      <th>3</th>\n",
       "      <td>XXXXXX</td>\n",
       "      <td>Jan  9 2004 12:00AM</td>\n",
       "      <td>15</td>\n",
       "      <td>500.00</td>\n",
       "      <td>FEMALE</td>\n",
       "      <td>SINGLE</td>\n",
       "      <td>2005-05-20</td>\n",
       "      <td>14</td>\n",
       "      <td>0</td>\n",
       "      <td>1</td>\n",
       "      <td>...</td>\n",
       "      <td>28089.99</td>\n",
       "      <td>18753.92</td>\n",
       "      <td>4000.00</td>\n",
       "      <td>1</td>\n",
       "      <td>76946.96</td>\n",
       "      <td>12</td>\n",
       "      <td>13</td>\n",
       "      <td>2223</td>\n",
       "      <td>LOW</td>\n",
       "      <td>ACTIVE</td>\n",
       "    </tr>\n",
       "    <tr>\n",
       "      <th>4</th>\n",
       "      <td>XXXXXX</td>\n",
       "      <td>Mar  7 1971 12:00AM</td>\n",
       "      <td>48</td>\n",
       "      <td>9000000.00</td>\n",
       "      <td>FEMALE</td>\n",
       "      <td>SINGLE</td>\n",
       "      <td>2014-06-30</td>\n",
       "      <td>5</td>\n",
       "      <td>15</td>\n",
       "      <td>33</td>\n",
       "      <td>...</td>\n",
       "      <td>176000.00</td>\n",
       "      <td>70500.00</td>\n",
       "      <td>338470.29</td>\n",
       "      <td>60</td>\n",
       "      <td>442100.00</td>\n",
       "      <td>21</td>\n",
       "      <td>81</td>\n",
       "      <td>2223</td>\n",
       "      <td>LOW</td>\n",
       "      <td>ACTIVE</td>\n",
       "    </tr>\n",
       "  </tbody>\n",
       "</table>\n",
       "<p>5 rows × 28 columns</p>\n",
       "</div>"
      ],
      "text/plain": [
       "      CIF              CUS_DOB  AGE  CUS_Month_Income CUS_Gender  \\\n",
       "0  XXXXXX  Feb 13 1970 12:00AM   49           7116.64       MALE   \n",
       "1  XXXXXX  Sep 20 1973 12:00AM   46        1500000.00     FEMALE   \n",
       "2  XXXXXX  Jul 18 1966 12:00AM   53        5000000.00     FEMALE   \n",
       "3  XXXXXX  Jan  9 2004 12:00AM   15            500.00     FEMALE   \n",
       "4  XXXXXX  Mar  7 1971 12:00AM   48        9000000.00     FEMALE   \n",
       "\n",
       "  CUS_Marital_Status CUS_Customer_Since  YEARS_WITH_US  \\\n",
       "0            MARRIED         1994-06-30             25   \n",
       "1             SINGLE         2005-05-19             14   \n",
       "2             SINGLE         2005-05-20             14   \n",
       "3             SINGLE         2005-05-20             14   \n",
       "4             SINGLE         2014-06-30              5   \n",
       "\n",
       "   # total debit transactions for S1  # total debit transactions for S2  ...  \\\n",
       "0                                277                                265  ...   \n",
       "1                                 37                                 15  ...   \n",
       "2                                 31                                 14  ...   \n",
       "3                                  0                                  1  ...   \n",
       "4                                 15                                 33  ...   \n",
       "\n",
       "   total credit amount for S2  total credit amount for S3  total debit amount  \\\n",
       "0                  1764079.61                  2378592.62          4758311.63   \n",
       "1                    19500.00                    57500.00           139363.22   \n",
       "2                   240311.84                    70946.86            37375.46   \n",
       "3                    28089.99                    18753.92             4000.00   \n",
       "4                   176000.00                    70500.00           338470.29   \n",
       "\n",
       "   total debit transactions  total credit amount  total credit transactions  \\\n",
       "0                       887           5659653.33                         65   \n",
       "1                        97             87000.00                         10   \n",
       "2                        53           1020883.70                         27   \n",
       "3                         1             76946.96                         12   \n",
       "4                        60            442100.00                         21   \n",
       "\n",
       "   total transactions  CUS_Target   TAR_Desc  Status  \n",
       "0                 952        2231  EXECUTIVE  ACTIVE  \n",
       "1                 107        2223        LOW  ACTIVE  \n",
       "2                  80        2222      MIDLE  ACTIVE  \n",
       "3                  13        2223        LOW  ACTIVE  \n",
       "4                  81        2223        LOW  ACTIVE  \n",
       "\n",
       "[5 rows x 28 columns]"
      ]
     },
     "execution_count": 27,
     "metadata": {},
     "output_type": "execute_result"
    }
   ],
   "source": [
    "df.head()"
   ]
  },
  {
   "cell_type": "code",
   "execution_count": 28,
   "id": "822e5f67",
   "metadata": {},
   "outputs": [],
   "source": [
    "df.columns=['CIF','CUS_DOB','AGE','CUS_Month_Income','CUS_Gender','CUS_Marital_Status','CUS_Customer_Since','YEARS_WITH_US','debit_trans_S1','debit_trans_S2','debit_trans_S3','debit_amount_S1','debit_amount_S2','debit_amount_S3','credit_trans_S1','credit_trans_S2','credit_trans_S3','credit_amount_S1','credit_amount_S2','credit_amount_S3','total_debit_amount','total_debit_transactions','total_credit_amount','total_credit_transactions','total_transactions','CUS_Target','TAR_Desc','Status']"
   ]
  },
  {
   "cell_type": "code",
   "execution_count": 29,
   "id": "f90df45b",
   "metadata": {},
   "outputs": [],
   "source": [
    "df.drop(['CIF','CUS_DOB','CUS_Customer_Since'],axis=1,inplace=True)"
   ]
  },
  {
   "cell_type": "code",
   "execution_count": 30,
   "id": "403841b3",
   "metadata": {},
   "outputs": [],
   "source": [
    "df.dropna(inplace=True)"
   ]
  },
  {
   "cell_type": "code",
   "execution_count": 31,
   "id": "ff3c8b45",
   "metadata": {},
   "outputs": [],
   "source": [
    "df.drop(['debit_trans_S1','debit_trans_S2','debit_trans_S3','debit_amount_S1','debit_amount_S2','debit_amount_S3','credit_trans_S1','credit_trans_S2','credit_trans_S3','credit_amount_S1','credit_amount_S2','credit_amount_S3'],axis=1,inplace=True)"
   ]
  },
  {
   "cell_type": "code",
   "execution_count": 32,
   "id": "f5ad7084",
   "metadata": {},
   "outputs": [],
   "source": [
    "df['CUS_Target']=df['CUS_Target'].astype(object)"
   ]
  },
  {
   "cell_type": "code",
   "execution_count": 33,
   "id": "24857f92",
   "metadata": {},
   "outputs": [],
   "source": [
    "df['total_amount']=df['total_credit_amount']-df['total_debit_amount']"
   ]
  },
  {
   "cell_type": "code",
   "execution_count": 34,
   "id": "0c014742",
   "metadata": {},
   "outputs": [
    {
     "data": {
      "text/html": [
       "<div>\n",
       "<style scoped>\n",
       "    .dataframe tbody tr th:only-of-type {\n",
       "        vertical-align: middle;\n",
       "    }\n",
       "\n",
       "    .dataframe tbody tr th {\n",
       "        vertical-align: top;\n",
       "    }\n",
       "\n",
       "    .dataframe thead th {\n",
       "        text-align: right;\n",
       "    }\n",
       "</style>\n",
       "<table border=\"1\" class=\"dataframe\">\n",
       "  <thead>\n",
       "    <tr style=\"text-align: right;\">\n",
       "      <th></th>\n",
       "      <th>AGE</th>\n",
       "      <th>CUS_Month_Income</th>\n",
       "      <th>CUS_Gender</th>\n",
       "      <th>CUS_Marital_Status</th>\n",
       "      <th>YEARS_WITH_US</th>\n",
       "      <th>total_debit_amount</th>\n",
       "      <th>total_debit_transactions</th>\n",
       "      <th>total_credit_amount</th>\n",
       "      <th>total_credit_transactions</th>\n",
       "      <th>total_transactions</th>\n",
       "      <th>CUS_Target</th>\n",
       "      <th>TAR_Desc</th>\n",
       "      <th>Status</th>\n",
       "      <th>total_amount</th>\n",
       "    </tr>\n",
       "  </thead>\n",
       "  <tbody>\n",
       "    <tr>\n",
       "      <th>0</th>\n",
       "      <td>49</td>\n",
       "      <td>7116.64</td>\n",
       "      <td>MALE</td>\n",
       "      <td>MARRIED</td>\n",
       "      <td>25</td>\n",
       "      <td>4758311.63</td>\n",
       "      <td>887</td>\n",
       "      <td>5659653.33</td>\n",
       "      <td>65</td>\n",
       "      <td>952</td>\n",
       "      <td>2231</td>\n",
       "      <td>EXECUTIVE</td>\n",
       "      <td>ACTIVE</td>\n",
       "      <td>901341.70</td>\n",
       "    </tr>\n",
       "    <tr>\n",
       "      <th>1</th>\n",
       "      <td>46</td>\n",
       "      <td>1500000.00</td>\n",
       "      <td>FEMALE</td>\n",
       "      <td>SINGLE</td>\n",
       "      <td>14</td>\n",
       "      <td>139363.22</td>\n",
       "      <td>97</td>\n",
       "      <td>87000.00</td>\n",
       "      <td>10</td>\n",
       "      <td>107</td>\n",
       "      <td>2223</td>\n",
       "      <td>LOW</td>\n",
       "      <td>ACTIVE</td>\n",
       "      <td>-52363.22</td>\n",
       "    </tr>\n",
       "    <tr>\n",
       "      <th>2</th>\n",
       "      <td>53</td>\n",
       "      <td>5000000.00</td>\n",
       "      <td>FEMALE</td>\n",
       "      <td>SINGLE</td>\n",
       "      <td>14</td>\n",
       "      <td>37375.46</td>\n",
       "      <td>53</td>\n",
       "      <td>1020883.70</td>\n",
       "      <td>27</td>\n",
       "      <td>80</td>\n",
       "      <td>2222</td>\n",
       "      <td>MIDLE</td>\n",
       "      <td>ACTIVE</td>\n",
       "      <td>983508.24</td>\n",
       "    </tr>\n",
       "    <tr>\n",
       "      <th>3</th>\n",
       "      <td>15</td>\n",
       "      <td>500.00</td>\n",
       "      <td>FEMALE</td>\n",
       "      <td>SINGLE</td>\n",
       "      <td>14</td>\n",
       "      <td>4000.00</td>\n",
       "      <td>1</td>\n",
       "      <td>76946.96</td>\n",
       "      <td>12</td>\n",
       "      <td>13</td>\n",
       "      <td>2223</td>\n",
       "      <td>LOW</td>\n",
       "      <td>ACTIVE</td>\n",
       "      <td>72946.96</td>\n",
       "    </tr>\n",
       "    <tr>\n",
       "      <th>4</th>\n",
       "      <td>48</td>\n",
       "      <td>9000000.00</td>\n",
       "      <td>FEMALE</td>\n",
       "      <td>SINGLE</td>\n",
       "      <td>5</td>\n",
       "      <td>338470.29</td>\n",
       "      <td>60</td>\n",
       "      <td>442100.00</td>\n",
       "      <td>21</td>\n",
       "      <td>81</td>\n",
       "      <td>2223</td>\n",
       "      <td>LOW</td>\n",
       "      <td>ACTIVE</td>\n",
       "      <td>103629.71</td>\n",
       "    </tr>\n",
       "  </tbody>\n",
       "</table>\n",
       "</div>"
      ],
      "text/plain": [
       "   AGE  CUS_Month_Income CUS_Gender CUS_Marital_Status  YEARS_WITH_US  \\\n",
       "0   49           7116.64       MALE            MARRIED             25   \n",
       "1   46        1500000.00     FEMALE             SINGLE             14   \n",
       "2   53        5000000.00     FEMALE             SINGLE             14   \n",
       "3   15            500.00     FEMALE             SINGLE             14   \n",
       "4   48        9000000.00     FEMALE             SINGLE              5   \n",
       "\n",
       "   total_debit_amount  total_debit_transactions  total_credit_amount  \\\n",
       "0          4758311.63                       887           5659653.33   \n",
       "1           139363.22                        97             87000.00   \n",
       "2            37375.46                        53           1020883.70   \n",
       "3             4000.00                         1             76946.96   \n",
       "4           338470.29                        60            442100.00   \n",
       "\n",
       "   total_credit_transactions  total_transactions CUS_Target   TAR_Desc  \\\n",
       "0                         65                 952       2231  EXECUTIVE   \n",
       "1                         10                 107       2223        LOW   \n",
       "2                         27                  80       2222      MIDLE   \n",
       "3                         12                  13       2223        LOW   \n",
       "4                         21                  81       2223        LOW   \n",
       "\n",
       "   Status  total_amount  \n",
       "0  ACTIVE     901341.70  \n",
       "1  ACTIVE     -52363.22  \n",
       "2  ACTIVE     983508.24  \n",
       "3  ACTIVE      72946.96  \n",
       "4  ACTIVE     103629.71  "
      ]
     },
     "execution_count": 34,
     "metadata": {},
     "output_type": "execute_result"
    }
   ],
   "source": [
    "df.head()"
   ]
  },
  {
   "attachments": {},
   "cell_type": "markdown",
   "id": "fbd32281",
   "metadata": {},
   "source": [
    "#### Preparing X and Y variables"
   ]
  },
  {
   "cell_type": "code",
   "execution_count": 37,
   "id": "a42bc450",
   "metadata": {},
   "outputs": [],
   "source": [
    "df['Status']=df['Status'].map({'ACTIVE':0,'CHURN':1})"
   ]
  },
  {
   "cell_type": "code",
   "execution_count": 38,
   "id": "35a81d04",
   "metadata": {},
   "outputs": [
    {
     "data": {
      "text/html": [
       "<div>\n",
       "<style scoped>\n",
       "    .dataframe tbody tr th:only-of-type {\n",
       "        vertical-align: middle;\n",
       "    }\n",
       "\n",
       "    .dataframe tbody tr th {\n",
       "        vertical-align: top;\n",
       "    }\n",
       "\n",
       "    .dataframe thead th {\n",
       "        text-align: right;\n",
       "    }\n",
       "</style>\n",
       "<table border=\"1\" class=\"dataframe\">\n",
       "  <thead>\n",
       "    <tr style=\"text-align: right;\">\n",
       "      <th></th>\n",
       "      <th>AGE</th>\n",
       "      <th>CUS_Month_Income</th>\n",
       "      <th>CUS_Gender</th>\n",
       "      <th>CUS_Marital_Status</th>\n",
       "      <th>YEARS_WITH_US</th>\n",
       "      <th>total_debit_amount</th>\n",
       "      <th>total_debit_transactions</th>\n",
       "      <th>total_credit_amount</th>\n",
       "      <th>total_credit_transactions</th>\n",
       "      <th>total_transactions</th>\n",
       "      <th>CUS_Target</th>\n",
       "      <th>TAR_Desc</th>\n",
       "      <th>Status</th>\n",
       "      <th>total_amount</th>\n",
       "    </tr>\n",
       "  </thead>\n",
       "  <tbody>\n",
       "    <tr>\n",
       "      <th>0</th>\n",
       "      <td>49</td>\n",
       "      <td>7116.64</td>\n",
       "      <td>MALE</td>\n",
       "      <td>MARRIED</td>\n",
       "      <td>25</td>\n",
       "      <td>4758311.63</td>\n",
       "      <td>887</td>\n",
       "      <td>5659653.33</td>\n",
       "      <td>65</td>\n",
       "      <td>952</td>\n",
       "      <td>2231</td>\n",
       "      <td>EXECUTIVE</td>\n",
       "      <td>0</td>\n",
       "      <td>901341.70</td>\n",
       "    </tr>\n",
       "    <tr>\n",
       "      <th>1</th>\n",
       "      <td>46</td>\n",
       "      <td>1500000.00</td>\n",
       "      <td>FEMALE</td>\n",
       "      <td>SINGLE</td>\n",
       "      <td>14</td>\n",
       "      <td>139363.22</td>\n",
       "      <td>97</td>\n",
       "      <td>87000.00</td>\n",
       "      <td>10</td>\n",
       "      <td>107</td>\n",
       "      <td>2223</td>\n",
       "      <td>LOW</td>\n",
       "      <td>0</td>\n",
       "      <td>-52363.22</td>\n",
       "    </tr>\n",
       "    <tr>\n",
       "      <th>2</th>\n",
       "      <td>53</td>\n",
       "      <td>5000000.00</td>\n",
       "      <td>FEMALE</td>\n",
       "      <td>SINGLE</td>\n",
       "      <td>14</td>\n",
       "      <td>37375.46</td>\n",
       "      <td>53</td>\n",
       "      <td>1020883.70</td>\n",
       "      <td>27</td>\n",
       "      <td>80</td>\n",
       "      <td>2222</td>\n",
       "      <td>MIDLE</td>\n",
       "      <td>0</td>\n",
       "      <td>983508.24</td>\n",
       "    </tr>\n",
       "    <tr>\n",
       "      <th>3</th>\n",
       "      <td>15</td>\n",
       "      <td>500.00</td>\n",
       "      <td>FEMALE</td>\n",
       "      <td>SINGLE</td>\n",
       "      <td>14</td>\n",
       "      <td>4000.00</td>\n",
       "      <td>1</td>\n",
       "      <td>76946.96</td>\n",
       "      <td>12</td>\n",
       "      <td>13</td>\n",
       "      <td>2223</td>\n",
       "      <td>LOW</td>\n",
       "      <td>0</td>\n",
       "      <td>72946.96</td>\n",
       "    </tr>\n",
       "    <tr>\n",
       "      <th>4</th>\n",
       "      <td>48</td>\n",
       "      <td>9000000.00</td>\n",
       "      <td>FEMALE</td>\n",
       "      <td>SINGLE</td>\n",
       "      <td>5</td>\n",
       "      <td>338470.29</td>\n",
       "      <td>60</td>\n",
       "      <td>442100.00</td>\n",
       "      <td>21</td>\n",
       "      <td>81</td>\n",
       "      <td>2223</td>\n",
       "      <td>LOW</td>\n",
       "      <td>0</td>\n",
       "      <td>103629.71</td>\n",
       "    </tr>\n",
       "  </tbody>\n",
       "</table>\n",
       "</div>"
      ],
      "text/plain": [
       "   AGE  CUS_Month_Income CUS_Gender CUS_Marital_Status  YEARS_WITH_US  \\\n",
       "0   49           7116.64       MALE            MARRIED             25   \n",
       "1   46        1500000.00     FEMALE             SINGLE             14   \n",
       "2   53        5000000.00     FEMALE             SINGLE             14   \n",
       "3   15            500.00     FEMALE             SINGLE             14   \n",
       "4   48        9000000.00     FEMALE             SINGLE              5   \n",
       "\n",
       "   total_debit_amount  total_debit_transactions  total_credit_amount  \\\n",
       "0          4758311.63                       887           5659653.33   \n",
       "1           139363.22                        97             87000.00   \n",
       "2            37375.46                        53           1020883.70   \n",
       "3             4000.00                         1             76946.96   \n",
       "4           338470.29                        60            442100.00   \n",
       "\n",
       "   total_credit_transactions  total_transactions CUS_Target   TAR_Desc  \\\n",
       "0                         65                 952       2231  EXECUTIVE   \n",
       "1                         10                 107       2223        LOW   \n",
       "2                         27                  80       2222      MIDLE   \n",
       "3                         12                  13       2223        LOW   \n",
       "4                         21                  81       2223        LOW   \n",
       "\n",
       "   Status  total_amount  \n",
       "0       0     901341.70  \n",
       "1       0     -52363.22  \n",
       "2       0     983508.24  \n",
       "3       0      72946.96  \n",
       "4       0     103629.71  "
      ]
     },
     "execution_count": 38,
     "metadata": {},
     "output_type": "execute_result"
    }
   ],
   "source": [
    "df.head()"
   ]
  },
  {
   "cell_type": "code",
   "execution_count": 39,
   "id": "56d72fde",
   "metadata": {},
   "outputs": [],
   "source": [
    "X = df.drop(columns=['Status'],axis=1)"
   ]
  },
  {
   "cell_type": "code",
   "execution_count": 40,
   "id": "cd613177",
   "metadata": {},
   "outputs": [
    {
     "data": {
      "text/html": [
       "<div>\n",
       "<style scoped>\n",
       "    .dataframe tbody tr th:only-of-type {\n",
       "        vertical-align: middle;\n",
       "    }\n",
       "\n",
       "    .dataframe tbody tr th {\n",
       "        vertical-align: top;\n",
       "    }\n",
       "\n",
       "    .dataframe thead th {\n",
       "        text-align: right;\n",
       "    }\n",
       "</style>\n",
       "<table border=\"1\" class=\"dataframe\">\n",
       "  <thead>\n",
       "    <tr style=\"text-align: right;\">\n",
       "      <th></th>\n",
       "      <th>AGE</th>\n",
       "      <th>CUS_Month_Income</th>\n",
       "      <th>CUS_Gender</th>\n",
       "      <th>CUS_Marital_Status</th>\n",
       "      <th>YEARS_WITH_US</th>\n",
       "      <th>total_debit_amount</th>\n",
       "      <th>total_debit_transactions</th>\n",
       "      <th>total_credit_amount</th>\n",
       "      <th>total_credit_transactions</th>\n",
       "      <th>total_transactions</th>\n",
       "      <th>CUS_Target</th>\n",
       "      <th>TAR_Desc</th>\n",
       "      <th>total_amount</th>\n",
       "    </tr>\n",
       "  </thead>\n",
       "  <tbody>\n",
       "    <tr>\n",
       "      <th>0</th>\n",
       "      <td>49</td>\n",
       "      <td>7116.64</td>\n",
       "      <td>MALE</td>\n",
       "      <td>MARRIED</td>\n",
       "      <td>25</td>\n",
       "      <td>4758311.63</td>\n",
       "      <td>887</td>\n",
       "      <td>5659653.33</td>\n",
       "      <td>65</td>\n",
       "      <td>952</td>\n",
       "      <td>2231</td>\n",
       "      <td>EXECUTIVE</td>\n",
       "      <td>901341.70</td>\n",
       "    </tr>\n",
       "    <tr>\n",
       "      <th>1</th>\n",
       "      <td>46</td>\n",
       "      <td>1500000.00</td>\n",
       "      <td>FEMALE</td>\n",
       "      <td>SINGLE</td>\n",
       "      <td>14</td>\n",
       "      <td>139363.22</td>\n",
       "      <td>97</td>\n",
       "      <td>87000.00</td>\n",
       "      <td>10</td>\n",
       "      <td>107</td>\n",
       "      <td>2223</td>\n",
       "      <td>LOW</td>\n",
       "      <td>-52363.22</td>\n",
       "    </tr>\n",
       "    <tr>\n",
       "      <th>2</th>\n",
       "      <td>53</td>\n",
       "      <td>5000000.00</td>\n",
       "      <td>FEMALE</td>\n",
       "      <td>SINGLE</td>\n",
       "      <td>14</td>\n",
       "      <td>37375.46</td>\n",
       "      <td>53</td>\n",
       "      <td>1020883.70</td>\n",
       "      <td>27</td>\n",
       "      <td>80</td>\n",
       "      <td>2222</td>\n",
       "      <td>MIDLE</td>\n",
       "      <td>983508.24</td>\n",
       "    </tr>\n",
       "    <tr>\n",
       "      <th>3</th>\n",
       "      <td>15</td>\n",
       "      <td>500.00</td>\n",
       "      <td>FEMALE</td>\n",
       "      <td>SINGLE</td>\n",
       "      <td>14</td>\n",
       "      <td>4000.00</td>\n",
       "      <td>1</td>\n",
       "      <td>76946.96</td>\n",
       "      <td>12</td>\n",
       "      <td>13</td>\n",
       "      <td>2223</td>\n",
       "      <td>LOW</td>\n",
       "      <td>72946.96</td>\n",
       "    </tr>\n",
       "    <tr>\n",
       "      <th>4</th>\n",
       "      <td>48</td>\n",
       "      <td>9000000.00</td>\n",
       "      <td>FEMALE</td>\n",
       "      <td>SINGLE</td>\n",
       "      <td>5</td>\n",
       "      <td>338470.29</td>\n",
       "      <td>60</td>\n",
       "      <td>442100.00</td>\n",
       "      <td>21</td>\n",
       "      <td>81</td>\n",
       "      <td>2223</td>\n",
       "      <td>LOW</td>\n",
       "      <td>103629.71</td>\n",
       "    </tr>\n",
       "  </tbody>\n",
       "</table>\n",
       "</div>"
      ],
      "text/plain": [
       "   AGE  CUS_Month_Income CUS_Gender CUS_Marital_Status  YEARS_WITH_US  \\\n",
       "0   49           7116.64       MALE            MARRIED             25   \n",
       "1   46        1500000.00     FEMALE             SINGLE             14   \n",
       "2   53        5000000.00     FEMALE             SINGLE             14   \n",
       "3   15            500.00     FEMALE             SINGLE             14   \n",
       "4   48        9000000.00     FEMALE             SINGLE              5   \n",
       "\n",
       "   total_debit_amount  total_debit_transactions  total_credit_amount  \\\n",
       "0          4758311.63                       887           5659653.33   \n",
       "1           139363.22                        97             87000.00   \n",
       "2            37375.46                        53           1020883.70   \n",
       "3             4000.00                         1             76946.96   \n",
       "4           338470.29                        60            442100.00   \n",
       "\n",
       "   total_credit_transactions  total_transactions CUS_Target   TAR_Desc  \\\n",
       "0                         65                 952       2231  EXECUTIVE   \n",
       "1                         10                 107       2223        LOW   \n",
       "2                         27                  80       2222      MIDLE   \n",
       "3                         12                  13       2223        LOW   \n",
       "4                         21                  81       2223        LOW   \n",
       "\n",
       "   total_amount  \n",
       "0     901341.70  \n",
       "1     -52363.22  \n",
       "2     983508.24  \n",
       "3      72946.96  \n",
       "4     103629.71  "
      ]
     },
     "execution_count": 40,
     "metadata": {},
     "output_type": "execute_result"
    }
   ],
   "source": [
    "X.head()"
   ]
  },
  {
   "cell_type": "code",
   "execution_count": 14,
   "id": "f237ea14",
   "metadata": {},
   "outputs": [
    {
     "name": "stdout",
     "output_type": "stream",
     "text": [
      "Categories in 'gender' variable:      ['female' 'male']\n",
      "Categories in 'race_ethnicity' variable:   ['group B' 'group C' 'group A' 'group D' 'group E']\n",
      "Categories in'parental level of education' variable: [\"bachelor's degree\" 'some college' \"master's degree\" \"associate's degree\"\n",
      " 'high school' 'some high school']\n",
      "Categories in 'lunch' variable:      ['standard' 'free/reduced']\n",
      "Categories in 'test preparation course' variable:      ['none' 'completed']\n"
     ]
    }
   ],
   "source": [
    "print(\"Categories in 'gender' variable:     \",end=\" \" )\n",
    "print(df['gender'].unique())\n",
    "\n",
    "print(\"Categories in 'race_ethnicity' variable:  \",end=\" \")\n",
    "print(df['race_ethnicity'].unique())\n",
    "\n",
    "print(\"Categories in'parental level of education' variable:\",end=\" \" )\n",
    "print(df['parental_level_of_education'].unique())\n",
    "\n",
    "print(\"Categories in 'lunch' variable:     \",end=\" \" )\n",
    "print(df['lunch'].unique())\n",
    "\n",
    "print(\"Categories in 'test preparation course' variable:     \",end=\" \" )\n",
    "print(df['test_preparation_course'].unique())"
   ]
  },
  {
   "cell_type": "code",
   "execution_count": 41,
   "id": "924b7f9d",
   "metadata": {},
   "outputs": [],
   "source": [
    "y = df['Status']"
   ]
  },
  {
   "cell_type": "code",
   "execution_count": 42,
   "id": "d279b0ec",
   "metadata": {},
   "outputs": [
    {
     "data": {
      "text/plain": [
       "0       0\n",
       "1       0\n",
       "2       0\n",
       "3       0\n",
       "4       0\n",
       "       ..\n",
       "1244    1\n",
       "1245    0\n",
       "1246    0\n",
       "1247    0\n",
       "1248    0\n",
       "Name: Status, Length: 1238, dtype: int64"
      ]
     },
     "execution_count": 42,
     "metadata": {},
     "output_type": "execute_result"
    }
   ],
   "source": [
    "y"
   ]
  },
  {
   "cell_type": "code",
   "execution_count": 43,
   "id": "1e290fe3",
   "metadata": {},
   "outputs": [],
   "source": [
    "# Create Column Transformer with 3 types of transformers\n",
    "num_features = X.select_dtypes(exclude=\"object\").columns\n",
    "cat_features = X.select_dtypes(include=\"object\").columns\n",
    "\n",
    "from sklearn.preprocessing import OneHotEncoder, StandardScaler\n",
    "from sklearn.compose import ColumnTransformer\n",
    "\n",
    "numeric_transformer = StandardScaler()\n",
    "oh_transformer = OneHotEncoder()\n",
    "\n",
    "preprocessor = ColumnTransformer(\n",
    "    [\n",
    "        (\"OneHotEncoder\", oh_transformer, cat_features),\n",
    "         (\"StandardScaler\", numeric_transformer, num_features),        \n",
    "    ]\n",
    ")"
   ]
  },
  {
   "cell_type": "code",
   "execution_count": 44,
   "id": "9c68f99a",
   "metadata": {},
   "outputs": [],
   "source": [
    "X = preprocessor.fit_transform(X)"
   ]
  },
  {
   "cell_type": "code",
   "execution_count": 46,
   "id": "72459f1d",
   "metadata": {},
   "outputs": [
    {
     "data": {
      "text/plain": [
       "(1238, 33)"
      ]
     },
     "execution_count": 46,
     "metadata": {},
     "output_type": "execute_result"
    }
   ],
   "source": [
    "X.shape"
   ]
  },
  {
   "cell_type": "code",
   "execution_count": 47,
   "id": "ed5c4e99",
   "metadata": {},
   "outputs": [
    {
     "data": {
      "text/plain": [
       "((990, 33), (248, 33))"
      ]
     },
     "execution_count": 47,
     "metadata": {},
     "output_type": "execute_result"
    }
   ],
   "source": [
    "# separate dataset into train and test\n",
    "from sklearn.model_selection import train_test_split\n",
    "X_train, X_test, y_train, y_test = train_test_split(X,y,test_size=0.2,random_state=42)\n",
    "X_train.shape, X_test.shape"
   ]
  },
  {
   "attachments": {},
   "cell_type": "markdown",
   "id": "4cd80317",
   "metadata": {},
   "source": [
    "#### Create an Evaluate Function to give all metrics after model Training"
   ]
  },
  {
   "cell_type": "code",
   "execution_count": 48,
   "id": "3cc56a23",
   "metadata": {},
   "outputs": [],
   "source": [
    "def model_train_and_score(estimator, X_train, y_train, X_test, y_test):\n",
    "    estimator.fit(X_train, y_train)\n",
    "    y_pred = estimator.predict(X_test)\n",
    "    y_pred_train = estimator.predict(X_train)\n",
    "    \n",
    "    print(\"**************************************************\")\n",
    "    print(\"________\"+estimator.__class__.__name__+\"__________\")\n",
    "    print()\n",
    "    print(\"Accuracy: {}\".format(accuracy_score(y_test, y_pred)))\n",
    "    print(\"Precision: {}\".format(precision_score(y_test, y_pred, average = 'weighted')))\n",
    "    print(\"Recall: {}\".format(recall_score(y_test, y_pred, average = 'weighted')))\n",
    "    print(\"F1 Score: {}\".format(f1_score(y_test, y_pred, average = 'weighted')))\n",
    "    print()\n",
    "    print('Classification Report on train data \\n',classification_report(y_train,y_pred_train))\n",
    "    print()\n",
    "    print('Classification Report on test data \\n',classification_report(y_test,y_pred))\n",
    "    print()\n",
    "    print(\"**************************************************\") "
   ]
  },
  {
   "cell_type": "code",
   "execution_count": 49,
   "id": "5b4d9ba3",
   "metadata": {},
   "outputs": [
    {
     "name": "stdout",
     "output_type": "stream",
     "text": [
      "**************************************************\n",
      "________RandomForestClassifier__________\n",
      "\n",
      "Accuracy: 0.8548387096774194\n",
      "Precision: 0.8465392186419337\n",
      "Recall: 0.8548387096774194\n",
      "F1 Score: 0.8499857448030511\n",
      "\n",
      "Classification Report on train data \n",
      "               precision    recall  f1-score   support\n",
      "\n",
      "           0       1.00      1.00      1.00       807\n",
      "           1       1.00      1.00      1.00       183\n",
      "\n",
      "    accuracy                           1.00       990\n",
      "   macro avg       1.00      1.00      1.00       990\n",
      "weighted avg       1.00      1.00      1.00       990\n",
      "\n",
      "\n",
      "Classification Report on test data \n",
      "               precision    recall  f1-score   support\n",
      "\n",
      "           0       0.90      0.93      0.91       208\n",
      "           1       0.56      0.47      0.51        40\n",
      "\n",
      "    accuracy                           0.85       248\n",
      "   macro avg       0.73      0.70      0.71       248\n",
      "weighted avg       0.85      0.85      0.85       248\n",
      "\n",
      "\n",
      "**************************************************\n"
     ]
    }
   ],
   "source": [
    "model_train_and_score(RandomForestClassifier(), X_train, y_train, X_test, y_test)"
   ]
  },
  {
   "cell_type": "code",
   "execution_count": 51,
   "id": "e378cf37",
   "metadata": {},
   "outputs": [
    {
     "name": "stdout",
     "output_type": "stream",
     "text": [
      "**************************************************\n",
      "________RandomForestClassifier__________\n",
      "\n",
      "Accuracy: 0.8629032258064516\n",
      "Precision: 0.8508434448061557\n",
      "Recall: 0.8629032258064516\n",
      "F1 Score: 0.8547197161463405\n",
      "\n",
      "Classification Report on train data \n",
      "               precision    recall  f1-score   support\n",
      "\n",
      "           0       1.00      1.00      1.00       807\n",
      "           1       1.00      1.00      1.00       183\n",
      "\n",
      "    accuracy                           1.00       990\n",
      "   macro avg       1.00      1.00      1.00       990\n",
      "weighted avg       1.00      1.00      1.00       990\n",
      "\n",
      "\n",
      "Classification Report on test data \n",
      "               precision    recall  f1-score   support\n",
      "\n",
      "           0       0.90      0.94      0.92       208\n",
      "           1       0.60      0.45      0.51        40\n",
      "\n",
      "    accuracy                           0.86       248\n",
      "   macro avg       0.75      0.70      0.72       248\n",
      "weighted avg       0.85      0.86      0.85       248\n",
      "\n",
      "\n",
      "**************************************************\n"
     ]
    }
   ],
   "source": [
    "model_train_and_score(RandomForestClassifier(n_jobs=-1, random_state = 53), X_train, y_train, X_test, y_test)"
   ]
  },
  {
   "cell_type": "code",
   "execution_count": 52,
   "id": "1b595bb0",
   "metadata": {},
   "outputs": [
    {
     "name": "stdout",
     "output_type": "stream",
     "text": [
      "**************************************************\n",
      "________LogisticRegression__________\n",
      "\n",
      "Accuracy: 0.8467741935483871\n",
      "Precision: 0.8189184977403772\n",
      "Recall: 0.8467741935483871\n",
      "F1 Score: 0.8215622634992711\n",
      "\n",
      "Classification Report on train data \n",
      "               precision    recall  f1-score   support\n",
      "\n",
      "           0       0.85      0.97      0.91       807\n",
      "           1       0.65      0.21      0.32       183\n",
      "\n",
      "    accuracy                           0.83       990\n",
      "   macro avg       0.75      0.59      0.61       990\n",
      "weighted avg       0.81      0.83      0.80       990\n",
      "\n",
      "\n",
      "Classification Report on test data \n",
      "               precision    recall  f1-score   support\n",
      "\n",
      "           0       0.87      0.96      0.91       208\n",
      "           1       0.56      0.25      0.34        40\n",
      "\n",
      "    accuracy                           0.85       248\n",
      "   macro avg       0.71      0.61      0.63       248\n",
      "weighted avg       0.82      0.85      0.82       248\n",
      "\n",
      "\n",
      "**************************************************\n"
     ]
    }
   ],
   "source": [
    "model_train_and_score(LogisticRegression(), X_train, y_train, X_test, y_test)"
   ]
  },
  {
   "cell_type": "code",
   "execution_count": 53,
   "id": "cfafbd2d",
   "metadata": {},
   "outputs": [
    {
     "name": "stdout",
     "output_type": "stream",
     "text": [
      "**************************************************\n",
      "________DecisionTreeClassifier__________\n",
      "\n",
      "Accuracy: 0.7540322580645161\n",
      "Precision: 0.793038160339203\n",
      "Recall: 0.7540322580645161\n",
      "F1 Score: 0.770346218055948\n",
      "\n",
      "Classification Report on train data \n",
      "               precision    recall  f1-score   support\n",
      "\n",
      "           0       1.00      1.00      1.00       807\n",
      "           1       1.00      1.00      1.00       183\n",
      "\n",
      "    accuracy                           1.00       990\n",
      "   macro avg       1.00      1.00      1.00       990\n",
      "weighted avg       1.00      1.00      1.00       990\n",
      "\n",
      "\n",
      "Classification Report on test data \n",
      "               precision    recall  f1-score   support\n",
      "\n",
      "           0       0.88      0.81      0.85       208\n",
      "           1       0.32      0.45      0.37        40\n",
      "\n",
      "    accuracy                           0.75       248\n",
      "   macro avg       0.60      0.63      0.61       248\n",
      "weighted avg       0.79      0.75      0.77       248\n",
      "\n",
      "\n",
      "**************************************************\n"
     ]
    }
   ],
   "source": [
    "model_train_and_score(DecisionTreeClassifier(), X_train, y_train, X_test, y_test)"
   ]
  },
  {
   "cell_type": "code",
   "execution_count": 54,
   "id": "ecff07dc",
   "metadata": {},
   "outputs": [
    {
     "name": "stdout",
     "output_type": "stream",
     "text": [
      "**************************************************\n",
      "________AdaBoostClassifier__________\n",
      "\n",
      "Accuracy: 0.8508064516129032\n",
      "Precision: 0.8523244278726096\n",
      "Recall: 0.8508064516129032\n",
      "F1 Score: 0.8515476481793363\n",
      "\n",
      "Classification Report on train data \n",
      "               precision    recall  f1-score   support\n",
      "\n",
      "           0       0.91      0.95      0.93       807\n",
      "           1       0.70      0.57      0.63       183\n",
      "\n",
      "    accuracy                           0.88       990\n",
      "   macro avg       0.80      0.76      0.78       990\n",
      "weighted avg       0.87      0.88      0.87       990\n",
      "\n",
      "\n",
      "Classification Report on test data \n",
      "               precision    recall  f1-score   support\n",
      "\n",
      "           0       0.91      0.91      0.91       208\n",
      "           1       0.54      0.55      0.54        40\n",
      "\n",
      "    accuracy                           0.85       248\n",
      "   macro avg       0.72      0.73      0.73       248\n",
      "weighted avg       0.85      0.85      0.85       248\n",
      "\n",
      "\n",
      "**************************************************\n"
     ]
    }
   ],
   "source": [
    "model_train_and_score(AdaBoostClassifier(), X_train, y_train, X_test, y_test)"
   ]
  },
  {
   "cell_type": "code",
   "execution_count": 55,
   "id": "91016173",
   "metadata": {},
   "outputs": [
    {
     "name": "stdout",
     "output_type": "stream",
     "text": [
      "**************************************************\n",
      "________GradientBoostingClassifier__________\n",
      "\n",
      "Accuracy: 0.8467741935483871\n",
      "Precision: 0.8378761815247655\n",
      "Recall: 0.8467741935483871\n",
      "F1 Score: 0.8416516195143317\n",
      "\n",
      "Classification Report on train data \n",
      "               precision    recall  f1-score   support\n",
      "\n",
      "           0       0.95      0.99      0.97       807\n",
      "           1       0.94      0.76      0.84       183\n",
      "\n",
      "    accuracy                           0.95       990\n",
      "   macro avg       0.94      0.87      0.90       990\n",
      "weighted avg       0.95      0.95      0.94       990\n",
      "\n",
      "\n",
      "Classification Report on test data \n",
      "               precision    recall  f1-score   support\n",
      "\n",
      "           0       0.90      0.92      0.91       208\n",
      "           1       0.53      0.45      0.49        40\n",
      "\n",
      "    accuracy                           0.85       248\n",
      "   macro avg       0.71      0.69      0.70       248\n",
      "weighted avg       0.84      0.85      0.84       248\n",
      "\n",
      "\n",
      "**************************************************\n"
     ]
    }
   ],
   "source": [
    "model_train_and_score(GradientBoostingClassifier(), X_train, y_train, X_test, y_test)"
   ]
  },
  {
   "cell_type": "code",
   "execution_count": 56,
   "id": "29349adb",
   "metadata": {},
   "outputs": [],
   "source": [
    "scorecard=pd.DataFrame(columns=['Model','Precision','Recall','F1_score','Train_Accuracy','Test_Accuracy','Kappa_score'])\n",
    "def model_accuracy(model_name,classifier,X_train,y_train,X_test,y_test):\n",
    "    \n",
    "    # traing data \n",
    "    model=classifier.fit(X_train,y_train)\n",
    "    y_train_pred=model.predict(X_train)\n",
    "    #testing data\n",
    "    y_test_pred=model.predict(X_test)\n",
    "    \n",
    "    Train_accuracy=model.score(X_train,y_train)\n",
    "    Test_accuracy=model.score(X_test,y_test)\n",
    "    \n",
    "    global scorecard\n",
    "    scorecard=scorecard.append({'Model':model_name\n",
    "                               ,'Precision':precision_score(y_test,y_test_pred, average = 'weighted')\n",
    "                               ,'Recall':recall_score(y_test,y_test_pred, average = 'weighted')\n",
    "                               ,'F1_score':f1_score(y_test,y_test_pred, average = 'weighted')\n",
    "                               ,'Train_Accuracy':Train_accuracy\n",
    "                               ,'Test_Accuracy':Test_accuracy\n",
    "                               ,'Kappa_score':cohen_kappa_score(y_test,y_test_pred)},ignore_index=True\n",
    "                              )"
   ]
  },
  {
   "cell_type": "code",
   "execution_count": 57,
   "id": "8953a0a4",
   "metadata": {},
   "outputs": [],
   "source": [
    "model_accuracy('Decision Tree', DecisionTreeClassifier(), X_train, y_train, X_test, y_test)"
   ]
  },
  {
   "cell_type": "code",
   "execution_count": 58,
   "id": "5fe42082",
   "metadata": {},
   "outputs": [],
   "source": [
    "model_accuracy('Logistic Regression', LogisticRegression(), X_train, y_train, X_test, y_test)"
   ]
  },
  {
   "cell_type": "code",
   "execution_count": 59,
   "id": "999928e5",
   "metadata": {},
   "outputs": [],
   "source": [
    "model_accuracy('Random Forest', RandomForestClassifier(), X_train, y_train, X_test, y_test)"
   ]
  },
  {
   "cell_type": "code",
   "execution_count": 66,
   "id": "1e4ae832",
   "metadata": {},
   "outputs": [],
   "source": [
    "from sklearn.ensemble import ExtraTreesClassifier\n",
    "model_accuracy('Extra Trees Classifier', ExtraTreesClassifier(), X_train, y_train, X_test, y_test)"
   ]
  },
  {
   "cell_type": "code",
   "execution_count": 61,
   "id": "f28e1f72",
   "metadata": {},
   "outputs": [],
   "source": [
    "model_accuracy('Bagging Classifier', BaggingClassifier(), X_train, y_train, X_test, y_test)"
   ]
  },
  {
   "cell_type": "code",
   "execution_count": 62,
   "id": "388b86fa",
   "metadata": {},
   "outputs": [],
   "source": [
    "model_accuracy('AdaBoost Classifier', AdaBoostClassifier(), X_train, y_train, X_test, y_test)"
   ]
  },
  {
   "cell_type": "code",
   "execution_count": 63,
   "id": "99f86f5d",
   "metadata": {},
   "outputs": [],
   "source": [
    "model_accuracy('GradientBoosting Classifier', GradientBoostingClassifier(), X_train, y_train, X_test, y_test)"
   ]
  },
  {
   "cell_type": "code",
   "execution_count": 64,
   "id": "0dd83c78",
   "metadata": {},
   "outputs": [],
   "source": [
    "model_accuracy('XGB Classifier', XGBClassifier(), X_train, y_train, X_test, y_test)"
   ]
  },
  {
   "cell_type": "code",
   "execution_count": 65,
   "id": "92189744",
   "metadata": {},
   "outputs": [],
   "source": [
    "model_accuracy('LGBM Classifier', LGBMClassifier(), X_train, y_train, X_test, y_test)"
   ]
  },
  {
   "cell_type": "code",
   "execution_count": 68,
   "id": "fe1368ab",
   "metadata": {},
   "outputs": [
    {
     "data": {
      "text/html": [
       "<div>\n",
       "<style scoped>\n",
       "    .dataframe tbody tr th:only-of-type {\n",
       "        vertical-align: middle;\n",
       "    }\n",
       "\n",
       "    .dataframe tbody tr th {\n",
       "        vertical-align: top;\n",
       "    }\n",
       "\n",
       "    .dataframe thead th {\n",
       "        text-align: right;\n",
       "    }\n",
       "</style>\n",
       "<table border=\"1\" class=\"dataframe\">\n",
       "  <thead>\n",
       "    <tr style=\"text-align: right;\">\n",
       "      <th></th>\n",
       "      <th>Model</th>\n",
       "      <th>Precision</th>\n",
       "      <th>Recall</th>\n",
       "      <th>F1_score</th>\n",
       "      <th>Train_Accuracy</th>\n",
       "      <th>Test_Accuracy</th>\n",
       "      <th>Kappa_score</th>\n",
       "    </tr>\n",
       "  </thead>\n",
       "  <tbody>\n",
       "    <tr>\n",
       "      <th>0</th>\n",
       "      <td>Decision Tree</td>\n",
       "      <td>0.800259</td>\n",
       "      <td>0.762097</td>\n",
       "      <td>0.777876</td>\n",
       "      <td>1.000000</td>\n",
       "      <td>0.762097</td>\n",
       "      <td>0.249487</td>\n",
       "    </tr>\n",
       "    <tr>\n",
       "      <th>1</th>\n",
       "      <td>Logistic Regression</td>\n",
       "      <td>0.818918</td>\n",
       "      <td>0.846774</td>\n",
       "      <td>0.821562</td>\n",
       "      <td>0.833333</td>\n",
       "      <td>0.846774</td>\n",
       "      <td>0.271941</td>\n",
       "    </tr>\n",
       "    <tr>\n",
       "      <th>2</th>\n",
       "      <td>Random Forest</td>\n",
       "      <td>0.835032</td>\n",
       "      <td>0.842742</td>\n",
       "      <td>0.838434</td>\n",
       "      <td>1.000000</td>\n",
       "      <td>0.842742</td>\n",
       "      <td>0.387848</td>\n",
       "    </tr>\n",
       "    <tr>\n",
       "      <th>3</th>\n",
       "      <td>Bagging Classifier</td>\n",
       "      <td>0.804132</td>\n",
       "      <td>0.826613</td>\n",
       "      <td>0.812419</td>\n",
       "      <td>0.986869</td>\n",
       "      <td>0.826613</td>\n",
       "      <td>0.262313</td>\n",
       "    </tr>\n",
       "    <tr>\n",
       "      <th>4</th>\n",
       "      <td>AdaBoost Classifier</td>\n",
       "      <td>0.852324</td>\n",
       "      <td>0.850806</td>\n",
       "      <td>0.851548</td>\n",
       "      <td>0.875758</td>\n",
       "      <td>0.850806</td>\n",
       "      <td>0.454069</td>\n",
       "    </tr>\n",
       "    <tr>\n",
       "      <th>5</th>\n",
       "      <td>GradientBoosting Classifier</td>\n",
       "      <td>0.837876</td>\n",
       "      <td>0.846774</td>\n",
       "      <td>0.841652</td>\n",
       "      <td>0.946465</td>\n",
       "      <td>0.846774</td>\n",
       "      <td>0.397134</td>\n",
       "    </tr>\n",
       "    <tr>\n",
       "      <th>6</th>\n",
       "      <td>XGB Classifier</td>\n",
       "      <td>0.849192</td>\n",
       "      <td>0.854839</td>\n",
       "      <td>0.851710</td>\n",
       "      <td>1.000000</td>\n",
       "      <td>0.854839</td>\n",
       "      <td>0.440882</td>\n",
       "    </tr>\n",
       "    <tr>\n",
       "      <th>7</th>\n",
       "      <td>LGBM Classifier</td>\n",
       "      <td>0.823882</td>\n",
       "      <td>0.830645</td>\n",
       "      <td>0.826995</td>\n",
       "      <td>1.000000</td>\n",
       "      <td>0.830645</td>\n",
       "      <td>0.347695</td>\n",
       "    </tr>\n",
       "    <tr>\n",
       "      <th>8</th>\n",
       "      <td>Extra Trees Classifier</td>\n",
       "      <td>0.838264</td>\n",
       "      <td>0.850806</td>\n",
       "      <td>0.842930</td>\n",
       "      <td>1.000000</td>\n",
       "      <td>0.850806</td>\n",
       "      <td>0.393443</td>\n",
       "    </tr>\n",
       "  </tbody>\n",
       "</table>\n",
       "</div>"
      ],
      "text/plain": [
       "                         Model  Precision    Recall  F1_score  Train_Accuracy  \\\n",
       "0                Decision Tree   0.800259  0.762097  0.777876        1.000000   \n",
       "1          Logistic Regression   0.818918  0.846774  0.821562        0.833333   \n",
       "2                Random Forest   0.835032  0.842742  0.838434        1.000000   \n",
       "3           Bagging Classifier   0.804132  0.826613  0.812419        0.986869   \n",
       "4          AdaBoost Classifier   0.852324  0.850806  0.851548        0.875758   \n",
       "5  GradientBoosting Classifier   0.837876  0.846774  0.841652        0.946465   \n",
       "6               XGB Classifier   0.849192  0.854839  0.851710        1.000000   \n",
       "7              LGBM Classifier   0.823882  0.830645  0.826995        1.000000   \n",
       "8       Extra Trees Classifier   0.838264  0.850806  0.842930        1.000000   \n",
       "\n",
       "   Test_Accuracy  Kappa_score  \n",
       "0       0.762097     0.249487  \n",
       "1       0.846774     0.271941  \n",
       "2       0.842742     0.387848  \n",
       "3       0.826613     0.262313  \n",
       "4       0.850806     0.454069  \n",
       "5       0.846774     0.397134  \n",
       "6       0.854839     0.440882  \n",
       "7       0.830645     0.347695  \n",
       "8       0.850806     0.393443  "
      ]
     },
     "execution_count": 68,
     "metadata": {},
     "output_type": "execute_result"
    }
   ],
   "source": [
    "scorecard"
   ]
  },
  {
   "cell_type": "code",
   "execution_count": 69,
   "id": "e48782fd",
   "metadata": {},
   "outputs": [],
   "source": [
    "models = []\n",
    "models.append(('Logistic Regression', LogisticRegression()))\n",
    "models.append(('Decision Tree', DecisionTreeClassifier()))\n",
    "models.append(('Random Forest',RandomForestClassifier()))\n",
    "models.append(('Extra Trees Classifier',ExtraTreesClassifier()))\n",
    "models.append(('Bagging Classifier',BaggingClassifier()))"
   ]
  },
  {
   "cell_type": "code",
   "execution_count": 70,
   "id": "bd8d04c7",
   "metadata": {},
   "outputs": [
    {
     "name": "stdout",
     "output_type": "stream",
     "text": [
      "Logistic Regression: Bias error: 0.214318 Variance error: (0.031371)\n",
      "Decision Tree: Bias error: 0.202910 Variance error: (0.022725)\n",
      "Random Forest: Bias error: 0.162977 Variance error: (0.014403)\n",
      "Extra Trees Classifier: Bias error: 0.181826 Variance error: (0.006913)\n",
      "Bagging Classifier: Bias error: 0.179922 Variance error: (0.016455)\n"
     ]
    }
   ],
   "source": [
    "results = []\n",
    "names = []\n",
    "for name, model in models:\n",
    "    kfold = KFold(shuffle=True,n_splits=3,random_state=0)\n",
    "    cv_results = cross_val_score(model, X_train, y_train, cv=kfold, scoring='f1_weighted')\n",
    "    results.append(cv_results)\n",
    "    names.append(name)\n",
    "    print(\"%s: Bias error: %f Variance error: (%f)\" % (name, 1-np.mean(cv_results),np.std(cv_results,ddof=1)))"
   ]
  },
  {
   "cell_type": "code",
   "execution_count": 71,
   "id": "20e41835",
   "metadata": {},
   "outputs": [],
   "source": [
    "models1 = []\n",
    "models1.append(('AdaBoost Classifier',AdaBoostClassifier()))\n",
    "models1.append(('GradientBoosting Classifier',GradientBoostingClassifier()))\n",
    "models1.append(('XGB Classifier',XGBClassifier()))\n",
    "models1.append(('LGBM Classifier',LGBMClassifier()))"
   ]
  },
  {
   "cell_type": "code",
   "execution_count": 72,
   "id": "f1e37dac",
   "metadata": {},
   "outputs": [
    {
     "name": "stdout",
     "output_type": "stream",
     "text": [
      "AdaBoost Classifier: Bias error: 0.182519 Variance error: (0.044658)\n",
      "GradientBoosting Classifier: Bias error: 0.173912 Variance error: (0.031221)\n",
      "XGB Classifier: Bias error: 0.181233 Variance error: (0.023450)\n",
      "LGBM Classifier: Bias error: 0.173211 Variance error: (0.027403)\n"
     ]
    }
   ],
   "source": [
    "results = []\n",
    "names = []\n",
    "for name, model in models1:\n",
    "    kfold = KFold(shuffle=True,n_splits=3,random_state=10)\n",
    "    cv_results = cross_val_score(model, X_train, y_train, cv=kfold, scoring='f1_weighted')\n",
    "    results.append(cv_results)\n",
    "    names.append(name)\n",
    "    print(\"%s: Bias error: %f Variance error: (%f)\" % (name, 1-np.mean(cv_results),np.std(cv_results,ddof=1)))"
   ]
  },
  {
   "cell_type": "code",
   "execution_count": null,
   "id": "f356a59d",
   "metadata": {},
   "outputs": [],
   "source": [
    "#Tuning"
   ]
  },
  {
   "cell_type": "code",
   "execution_count": 73,
   "id": "5a944246",
   "metadata": {},
   "outputs": [
    {
     "data": {
      "text/plain": [
       "GridSearchCV(cv=KFold(n_splits=5, random_state=10, shuffle=True),\n",
       "             estimator=LogisticRegression(random_state=53),\n",
       "             param_grid={'max_iter': [30, 50, 100, 120, 150],\n",
       "                         'penalty': ['l1', 'l2']},\n",
       "             scoring='f1_weighted')"
      ]
     },
     "execution_count": 73,
     "metadata": {},
     "output_type": "execute_result"
    }
   ],
   "source": [
    "LR = LogisticRegression(random_state=53)\n",
    "\n",
    "hyp_parameters = {'penalty':['l1','l2'],'max_iter':[30,50,100,120,150]}\n",
    "\n",
    "kf = KFold(n_splits=5,shuffle=True,random_state=10)\n",
    "\n",
    "grid_LR = GridSearchCV(estimator=LR,param_grid=hyp_parameters,cv=kf,scoring='f1_weighted')\n",
    "\n",
    "grid_LR.fit(X_train,y_train)"
   ]
  },
  {
   "cell_type": "code",
   "execution_count": 76,
   "id": "d0a990b0",
   "metadata": {},
   "outputs": [
    {
     "name": "stdout",
     "output_type": "stream",
     "text": [
      "Best Parameters for LogisticRegression \n",
      " {'max_iter': 50, 'penalty': 'l2'}\n"
     ]
    }
   ],
   "source": [
    "print('Best Parameters for LogisticRegression \\n',grid_LR.best_params_)"
   ]
  },
  {
   "cell_type": "code",
   "execution_count": 75,
   "id": "aa548111",
   "metadata": {},
   "outputs": [
    {
     "data": {
      "text/plain": [
       "GridSearchCV(cv=KFold(n_splits=5, random_state=10, shuffle=True),\n",
       "             estimator=RandomForestClassifier(random_state=53),\n",
       "             param_grid={'criterion': ['gini', 'entropy'],\n",
       "                         'max_depth': [2, 3, 5, 6], 'max_leaf_nodes': [2, 3, 4],\n",
       "                         'min_samples_leaf': [1, 3, 5],\n",
       "                         'min_samples_split': [2, 3, 4, 5],\n",
       "                         'n_estimators': [10, 20, 30, 50]},\n",
       "             scoring='f1_weighted')"
      ]
     },
     "execution_count": 75,
     "metadata": {},
     "output_type": "execute_result"
    }
   ],
   "source": [
    "rf = RandomForestClassifier(random_state=53)\n",
    "hyp_parameters = {'n_estimators':[10,20,30,50],'criterion':['gini','entropy'],'max_depth':[2,3,5,6],\n",
    "                  'min_samples_split':[2,3,4,5],'min_samples_leaf':[1,3,5],'max_leaf_nodes':[2,3,4]}\n",
    "Kf = KFold(n_splits=5,shuffle=True,random_state=10)\n",
    "grid_rf = GridSearchCV(estimator=rf,param_grid=hyp_parameters,cv=Kf,scoring='f1_weighted')\n",
    "grid_rf.fit(X_train,y_train)"
   ]
  },
  {
   "cell_type": "code",
   "execution_count": 77,
   "id": "0654a816",
   "metadata": {},
   "outputs": [
    {
     "name": "stdout",
     "output_type": "stream",
     "text": [
      "Best Parameters for RandomForest \n",
      " {'criterion': 'gini', 'max_depth': 3, 'max_leaf_nodes': 4, 'min_samples_leaf': 3, 'min_samples_split': 2, 'n_estimators': 50}\n"
     ]
    }
   ],
   "source": [
    "print('Best Parameters for RandomForest \\n',grid_rf.best_params_)"
   ]
  },
  {
   "cell_type": "code",
   "execution_count": 78,
   "id": "edde68ff",
   "metadata": {},
   "outputs": [
    {
     "data": {
      "text/plain": [
       "GridSearchCV(cv=KFold(n_splits=5, random_state=10, shuffle=True),\n",
       "             estimator=DecisionTreeClassifier(random_state=53),\n",
       "             param_grid={'criterion': ['gini', 'entropy'],\n",
       "                         'max_depth': [2, 3, 5, 6],\n",
       "                         'max_features': ['auto', 'sqrt', 'log2'],\n",
       "                         'max_leaf_nodes': [2, 3, 4],\n",
       "                         'min_samples_leaf': [1, 3, 5],\n",
       "                         'min_samples_split': [2, 3, 4, 5]},\n",
       "             scoring='f1_weighted')"
      ]
     },
     "execution_count": 78,
     "metadata": {},
     "output_type": "execute_result"
    }
   ],
   "source": [
    "Dt = DecisionTreeClassifier(random_state=53)\n",
    "\n",
    "hyp_parameters = {'criterion':['gini','entropy'],\n",
    "                  'max_depth':[2,3,5,6],\n",
    "                  'min_samples_split':[2,3,4,5],\n",
    "                  'min_samples_leaf':[1,3,5],\n",
    "                  'max_leaf_nodes':[2,3,4],\n",
    "                  'max_features':['auto','sqrt','log2']}\n",
    "\n",
    "Kf = KFold(n_splits=5,shuffle=True,random_state=10)\n",
    "grid_Dt = GridSearchCV(estimator=Dt,param_grid=hyp_parameters,cv=Kf,scoring='f1_weighted')\n",
    "grid_Dt.fit(X_train,y_train)"
   ]
  },
  {
   "cell_type": "code",
   "execution_count": 80,
   "id": "bea848e3",
   "metadata": {},
   "outputs": [
    {
     "name": "stdout",
     "output_type": "stream",
     "text": [
      "The best parameters from Decision Tree Classifier are:\n",
      "  {'criterion': 'gini', 'max_depth': 3, 'max_features': 'auto', 'max_leaf_nodes': 4, 'min_samples_leaf': 1, 'min_samples_split': 2}\n"
     ]
    }
   ],
   "source": [
    "print('The best parameters from Decision Tree Classifier are:\\n ', grid_Dt.best_params_)"
   ]
  },
  {
   "cell_type": "code",
   "execution_count": 81,
   "id": "005e46ab",
   "metadata": {},
   "outputs": [
    {
     "data": {
      "text/plain": [
       "GridSearchCV(cv=KFold(n_splits=5, random_state=10, shuffle=True),\n",
       "             estimator=AdaBoostClassifier(random_state=53),\n",
       "             param_grid={'base_estimator': [RandomForestClassifier(),\n",
       "                                            DecisionTreeClassifier()],\n",
       "                         'learning_rate': [0.5, 1, 1.5, 2],\n",
       "                         'n_estimators': [30, 50, 80, 100]},\n",
       "             scoring='f1_weighted')"
      ]
     },
     "execution_count": 81,
     "metadata": {},
     "output_type": "execute_result"
    }
   ],
   "source": [
    "Ada = AdaBoostClassifier(random_state=53)\n",
    "\n",
    "hyp_parameters = {'base_estimator':[RandomForestClassifier(),DecisionTreeClassifier()],'n_estimators':[30,50,80,100],\n",
    "                 'learning_rate':[0.5,1,1.5,2]}\n",
    "\n",
    "kf = KFold(n_splits=5,shuffle=True,random_state=10)\n",
    "\n",
    "grid_Ada = GridSearchCV(estimator=Ada,param_grid=hyp_parameters,cv=kf,scoring='f1_weighted')\n",
    "\n",
    "grid_Ada.fit(X_train,y_train)"
   ]
  },
  {
   "cell_type": "code",
   "execution_count": 82,
   "id": "e9e5f34c",
   "metadata": {},
   "outputs": [
    {
     "name": "stdout",
     "output_type": "stream",
     "text": [
      "Best Parameters for AdaBoostClassifier \n",
      " {'base_estimator': RandomForestClassifier(), 'learning_rate': 0.5, 'n_estimators': 30}\n"
     ]
    }
   ],
   "source": [
    "print('Best Parameters for AdaBoostClassifier \\n',grid_Ada.best_params_)"
   ]
  },
  {
   "cell_type": "code",
   "execution_count": 83,
   "id": "20d81950",
   "metadata": {},
   "outputs": [
    {
     "name": "stdout",
     "output_type": "stream",
     "text": [
      "The best parameters from KNeighbors Classifier are:\n",
      "  {'base_estimator': RandomForestClassifier(), 'max_features': 1, 'max_samples': 1, 'n_estimators': 10}\n"
     ]
    }
   ],
   "source": [
    "bag = BaggingClassifier(n_jobs=-1, random_state = 53)\n",
    "\n",
    "hyp_parameters = {'base_estimator':[RandomForestClassifier(), LogisticRegression()],\n",
    "                  'n_estimators':[10, 20, 40],\n",
    "                  'max_samples':[1,2,3],\n",
    "                  'max_features':[1,2,3]}\n",
    "\n",
    "Kf = KFold(n_splits=3, shuffle=True, random_state=10)\n",
    "grid_bag = GridSearchCV(estimator=bag, param_grid=hyp_parameters, cv=Kf, scoring='f1_weighted')\n",
    "grid_bag.fit(X_train,y_train)\n",
    "print('The best parameters from KNeighbors Classifier are:\\n ', grid_bag.best_params_)"
   ]
  },
  {
   "cell_type": "code",
   "execution_count": null,
   "id": "16a3a52c",
   "metadata": {},
   "outputs": [],
   "source": []
  },
  {
   "cell_type": "code",
   "execution_count": 84,
   "id": "10df0233",
   "metadata": {},
   "outputs": [],
   "source": [
    "hyper_params = [{'learning_rate': [0.4, 0.7, 1.0], 'max_depth': [5,6], 'gamma': [0, 2]}]\n",
    "kf=KFold(n_splits=3,shuffle=True,random_state=0)\n",
    "xgb = XGBClassifier(random_state = 10)\n",
    "xgb_grid = GridSearchCV(estimator = xgb, param_grid = hyper_params, cv = kf, scoring='f1_weighted')\n",
    "xgb_grid = xgb_grid.fit(X_train, y_train)"
   ]
  },
  {
   "cell_type": "code",
   "execution_count": 85,
   "id": "1f4e4e6f",
   "metadata": {},
   "outputs": [
    {
     "name": "stdout",
     "output_type": "stream",
     "text": [
      "The best parameters from KNeighbors Classifier are:\n",
      "  {'gamma': 0, 'learning_rate': 0.4, 'max_depth': 5}\n"
     ]
    }
   ],
   "source": [
    "print('The best parameters from KNeighbors Classifier are:\\n ', xgb_grid.best_params_)"
   ]
  },
  {
   "cell_type": "code",
   "execution_count": 86,
   "id": "dd3702bb",
   "metadata": {},
   "outputs": [],
   "source": [
    "scorecard_tuned=pd.DataFrame(columns=['Model','Precision','Recall','F1_score','Train_Accuracy','Test_Accuracy','Kappa_score'])\n",
    "def model_accuracy_score(model_name,classifier,X_train,y_train,X_test,y_test):\n",
    "    \n",
    "    # traing data \n",
    "    model=classifier.fit(X_train,y_train)\n",
    "    y_train_pred=model.predict(X_train)\n",
    "    #testing data\n",
    "    y_test_pred=model.predict(X_test)\n",
    "    \n",
    "    Train_accuracy=model.score(X_train,y_train)\n",
    "    Test_accuracy=model.score(X_test,y_test)\n",
    "    \n",
    "    global scorecard_tuned\n",
    "    scorecard_tuned=scorecard_tuned.append({'Model':model_name\n",
    "                               ,'Precision':precision_score(y_test,y_test_pred, average = 'weighted')\n",
    "                               ,'Recall':recall_score(y_test,y_test_pred, average = 'weighted')\n",
    "                               ,'F1_score':f1_score(y_test,y_test_pred, average = 'weighted')\n",
    "                               ,'Train_Accuracy':Train_accuracy\n",
    "                               ,'Test_Accuracy':Test_accuracy\n",
    "                               ,'Kappa_score':cohen_kappa_score(y_test,y_test_pred)},ignore_index=True\n",
    "                              )"
   ]
  },
  {
   "cell_type": "code",
   "execution_count": null,
   "id": "b4926ca3",
   "metadata": {},
   "outputs": [],
   "source": [
    "#Tuned"
   ]
  },
  {
   "cell_type": "code",
   "execution_count": 87,
   "id": "843b6310",
   "metadata": {},
   "outputs": [],
   "source": [
    "tuned_LR = LogisticRegression(max_iter = 50, penalty = 'l2', random_state = 53)"
   ]
  },
  {
   "cell_type": "code",
   "execution_count": 88,
   "id": "2b7c7da1",
   "metadata": {},
   "outputs": [
    {
     "name": "stdout",
     "output_type": "stream",
     "text": [
      "**************************************************\n",
      "________LogisticRegression__________\n",
      "\n",
      "Accuracy: 0.8467741935483871\n",
      "Precision: 0.8189184977403772\n",
      "Recall: 0.8467741935483871\n",
      "F1 Score: 0.8215622634992711\n",
      "\n",
      "Classification Report on train data \n",
      "               precision    recall  f1-score   support\n",
      "\n",
      "           0       0.85      0.97      0.91       807\n",
      "           1       0.65      0.21      0.32       183\n",
      "\n",
      "    accuracy                           0.83       990\n",
      "   macro avg       0.75      0.59      0.61       990\n",
      "weighted avg       0.81      0.83      0.80       990\n",
      "\n",
      "\n",
      "Classification Report on test data \n",
      "               precision    recall  f1-score   support\n",
      "\n",
      "           0       0.87      0.96      0.91       208\n",
      "           1       0.56      0.25      0.34        40\n",
      "\n",
      "    accuracy                           0.85       248\n",
      "   macro avg       0.71      0.61      0.63       248\n",
      "weighted avg       0.82      0.85      0.82       248\n",
      "\n",
      "\n",
      "**************************************************\n"
     ]
    }
   ],
   "source": [
    "model_train_and_score(tuned_LR, X_train, y_train, X_test, y_test)"
   ]
  },
  {
   "cell_type": "code",
   "execution_count": 89,
   "id": "d22e5406",
   "metadata": {},
   "outputs": [],
   "source": [
    "Tuned_DT = DecisionTreeClassifier(criterion='gini', \n",
    "                                 max_depth=3, \n",
    "                                 max_features='auto', \n",
    "                                 max_leaf_nodes=4, \n",
    "                                 min_samples_leaf=3, \n",
    "                                 min_samples_split=2, \n",
    "                                 random_state = 53)\n"
   ]
  },
  {
   "cell_type": "code",
   "execution_count": 90,
   "id": "29581df7",
   "metadata": {},
   "outputs": [
    {
     "name": "stdout",
     "output_type": "stream",
     "text": [
      "**************************************************\n",
      "________DecisionTreeClassifier__________\n",
      "\n",
      "Accuracy: 0.8387096774193549\n",
      "Precision: 0.8063113604488079\n",
      "Recall: 0.8387096774193549\n",
      "F1 Score: 0.8121708036834433\n",
      "\n",
      "Classification Report on train data \n",
      "               precision    recall  f1-score   support\n",
      "\n",
      "           0       0.86      0.96      0.91       807\n",
      "           1       0.65      0.32      0.43       183\n",
      "\n",
      "    accuracy                           0.84       990\n",
      "   macro avg       0.76      0.64      0.67       990\n",
      "weighted avg       0.82      0.84      0.82       990\n",
      "\n",
      "\n",
      "Classification Report on test data \n",
      "               precision    recall  f1-score   support\n",
      "\n",
      "           0       0.87      0.96      0.91       208\n",
      "           1       0.50      0.23      0.31        40\n",
      "\n",
      "    accuracy                           0.84       248\n",
      "   macro avg       0.68      0.59      0.61       248\n",
      "weighted avg       0.81      0.84      0.81       248\n",
      "\n",
      "\n",
      "**************************************************\n"
     ]
    }
   ],
   "source": [
    "model_train_and_score(Tuned_DT, X_train, y_train, X_test, y_test)"
   ]
  },
  {
   "cell_type": "code",
   "execution_count": 91,
   "id": "68009636",
   "metadata": {},
   "outputs": [],
   "source": [
    "Tuned_Random_forest = RandomForestClassifier(n_estimators = 10, \n",
    "    criterion = 'gini', \n",
    "    max_depth = 3, \n",
    "    min_samples_split = 2, \n",
    "    min_samples_leaf = 3,\n",
    "    max_leaf_nodes = 4,                                        \n",
    "    random_state = 53,  \n",
    "    n_jobs = -1)\n"
   ]
  },
  {
   "cell_type": "code",
   "execution_count": 92,
   "id": "8265a6b8",
   "metadata": {},
   "outputs": [
    {
     "name": "stdout",
     "output_type": "stream",
     "text": [
      "**************************************************\n",
      "________RandomForestClassifier__________\n",
      "\n",
      "Accuracy: 0.8467741935483871\n",
      "Precision: 0.815518498268635\n",
      "Recall: 0.8467741935483871\n",
      "F1 Score: 0.8103525361589877\n",
      "\n",
      "Classification Report on train data \n",
      "               precision    recall  f1-score   support\n",
      "\n",
      "           0       0.85      0.99      0.91       807\n",
      "           1       0.79      0.24      0.37       183\n",
      "\n",
      "    accuracy                           0.85       990\n",
      "   macro avg       0.82      0.61      0.64       990\n",
      "weighted avg       0.84      0.85      0.81       990\n",
      "\n",
      "\n",
      "Classification Report on test data \n",
      "               precision    recall  f1-score   support\n",
      "\n",
      "           0       0.86      0.98      0.91       208\n",
      "           1       0.58      0.17      0.27        40\n",
      "\n",
      "    accuracy                           0.85       248\n",
      "   macro avg       0.72      0.58      0.59       248\n",
      "weighted avg       0.82      0.85      0.81       248\n",
      "\n",
      "\n",
      "**************************************************\n"
     ]
    }
   ],
   "source": [
    "model_train_and_score(Tuned_Random_forest, X_train, y_train, X_test, y_test)"
   ]
  },
  {
   "cell_type": "code",
   "execution_count": 93,
   "id": "8c6c2d8f",
   "metadata": {},
   "outputs": [],
   "source": [
    "tuned_bagging = BaggingClassifier(base_estimator = RandomForestClassifier(),\n",
    "                                  max_features=1, \n",
    "                                  max_samples=1, \n",
    "                                  n_estimators = 10,\n",
    "                                 random_state = 53)\n"
   ]
  },
  {
   "cell_type": "code",
   "execution_count": 94,
   "id": "057ba976",
   "metadata": {},
   "outputs": [
    {
     "name": "stdout",
     "output_type": "stream",
     "text": [
      "**************************************************\n",
      "________BaggingClassifier__________\n",
      "\n",
      "Accuracy: 0.8387096774193549\n",
      "Precision: 0.7034339229968783\n",
      "Recall: 0.8387096774193549\n",
      "F1 Score: 0.7651386530843237\n",
      "\n",
      "Classification Report on train data \n",
      "               precision    recall  f1-score   support\n",
      "\n",
      "           0       0.82      1.00      0.90       807\n",
      "           1       0.00      0.00      0.00       183\n",
      "\n",
      "    accuracy                           0.82       990\n",
      "   macro avg       0.41      0.50      0.45       990\n",
      "weighted avg       0.66      0.82      0.73       990\n",
      "\n",
      "\n",
      "Classification Report on test data \n",
      "               precision    recall  f1-score   support\n",
      "\n",
      "           0       0.84      1.00      0.91       208\n",
      "           1       0.00      0.00      0.00        40\n",
      "\n",
      "    accuracy                           0.84       248\n",
      "   macro avg       0.42      0.50      0.46       248\n",
      "weighted avg       0.70      0.84      0.77       248\n",
      "\n",
      "\n",
      "**************************************************\n"
     ]
    }
   ],
   "source": [
    "model_train_and_score(tuned_bagging, X_train, y_train, X_test, y_test)"
   ]
  },
  {
   "cell_type": "code",
   "execution_count": 95,
   "id": "ffd6baa5",
   "metadata": {},
   "outputs": [],
   "source": [
    "Tuned_AdaBoost = AdaBoostClassifier(base_estimator = RandomForestClassifier(), \n",
    "                                    learning_rate = 0.5, \n",
    "                                    n_estimators = 30, \n",
    "                                   random_state = 53)"
   ]
  },
  {
   "cell_type": "code",
   "execution_count": 96,
   "id": "a04fa893",
   "metadata": {},
   "outputs": [
    {
     "name": "stdout",
     "output_type": "stream",
     "text": [
      "**************************************************\n",
      "________AdaBoostClassifier__________\n",
      "\n",
      "Accuracy: 0.8548387096774194\n",
      "Precision: 0.8440113500597372\n",
      "Recall: 0.8548387096774194\n",
      "F1 Score: 0.8481436396835058\n",
      "\n",
      "Classification Report on train data \n",
      "               precision    recall  f1-score   support\n",
      "\n",
      "           0       1.00      1.00      1.00       807\n",
      "           1       1.00      1.00      1.00       183\n",
      "\n",
      "    accuracy                           1.00       990\n",
      "   macro avg       1.00      1.00      1.00       990\n",
      "weighted avg       1.00      1.00      1.00       990\n",
      "\n",
      "\n",
      "Classification Report on test data \n",
      "               precision    recall  f1-score   support\n",
      "\n",
      "           0       0.90      0.93      0.92       208\n",
      "           1       0.56      0.45      0.50        40\n",
      "\n",
      "    accuracy                           0.85       248\n",
      "   macro avg       0.73      0.69      0.71       248\n",
      "weighted avg       0.84      0.85      0.85       248\n",
      "\n",
      "\n",
      "**************************************************\n"
     ]
    }
   ],
   "source": [
    "model_train_and_score(Tuned_AdaBoost, X_train, y_train, X_test, y_test)"
   ]
  },
  {
   "cell_type": "code",
   "execution_count": 97,
   "id": "f04549de",
   "metadata": {},
   "outputs": [],
   "source": [
    "tuned_xgb = XGBClassifier(learning_rate = 0, \n",
    "             gamma = 0.4, \n",
    "             max_depth = 5)"
   ]
  },
  {
   "cell_type": "code",
   "execution_count": 98,
   "id": "04556b54",
   "metadata": {},
   "outputs": [
    {
     "name": "stdout",
     "output_type": "stream",
     "text": [
      "**************************************************\n",
      "________XGBClassifier__________\n",
      "\n",
      "Accuracy: 0.8387096774193549\n",
      "Precision: 0.7034339229968783\n",
      "Recall: 0.8387096774193549\n",
      "F1 Score: 0.7651386530843237\n",
      "\n",
      "Classification Report on train data \n",
      "               precision    recall  f1-score   support\n",
      "\n",
      "           0       0.82      1.00      0.90       807\n",
      "           1       0.00      0.00      0.00       183\n",
      "\n",
      "    accuracy                           0.82       990\n",
      "   macro avg       0.41      0.50      0.45       990\n",
      "weighted avg       0.66      0.82      0.73       990\n",
      "\n",
      "\n",
      "Classification Report on test data \n",
      "               precision    recall  f1-score   support\n",
      "\n",
      "           0       0.84      1.00      0.91       208\n",
      "           1       0.00      0.00      0.00        40\n",
      "\n",
      "    accuracy                           0.84       248\n",
      "   macro avg       0.42      0.50      0.46       248\n",
      "weighted avg       0.70      0.84      0.77       248\n",
      "\n",
      "\n",
      "**************************************************\n"
     ]
    }
   ],
   "source": [
    "model_train_and_score(tuned_xgb, X_train, y_train, X_test, y_test)"
   ]
  },
  {
   "cell_type": "code",
   "execution_count": 99,
   "id": "9e06c130",
   "metadata": {},
   "outputs": [],
   "source": [
    "ada_tuned_LR = AdaBoostClassifier(base_estimator=tuned_LR, random_state = 53)"
   ]
  },
  {
   "cell_type": "code",
   "execution_count": 100,
   "id": "3cc79416",
   "metadata": {},
   "outputs": [
    {
     "name": "stdout",
     "output_type": "stream",
     "text": [
      "**************************************************\n",
      "________AdaBoostClassifier__________\n",
      "\n",
      "Accuracy: 0.842741935483871\n",
      "Precision: 0.8161509765196401\n",
      "Recall: 0.842741935483871\n",
      "F1 Score: 0.7815066349368799\n",
      "\n",
      "Classification Report on train data \n",
      "               precision    recall  f1-score   support\n",
      "\n",
      "           0       0.82      0.99      0.90       807\n",
      "           1       0.62      0.05      0.10       183\n",
      "\n",
      "    accuracy                           0.82       990\n",
      "   macro avg       0.72      0.52      0.50       990\n",
      "weighted avg       0.79      0.82      0.75       990\n",
      "\n",
      "\n",
      "Classification Report on test data \n",
      "               precision    recall  f1-score   support\n",
      "\n",
      "           0       0.84      1.00      0.91       208\n",
      "           1       0.67      0.05      0.09        40\n",
      "\n",
      "    accuracy                           0.84       248\n",
      "   macro avg       0.76      0.52      0.50       248\n",
      "weighted avg       0.82      0.84      0.78       248\n",
      "\n",
      "\n",
      "**************************************************\n"
     ]
    }
   ],
   "source": [
    "model_train_and_score(ada_tuned_LR, X_train, y_train, X_test, y_test)"
   ]
  },
  {
   "cell_type": "code",
   "execution_count": 101,
   "id": "0cab4baa",
   "metadata": {},
   "outputs": [],
   "source": [
    "ada_tuned_DT = AdaBoostClassifier(DecisionTreeClassifier(), random_state = 53)"
   ]
  },
  {
   "cell_type": "code",
   "execution_count": 102,
   "id": "1d10e736",
   "metadata": {},
   "outputs": [
    {
     "name": "stdout",
     "output_type": "stream",
     "text": [
      "**************************************************\n",
      "________AdaBoostClassifier__________\n",
      "\n",
      "Accuracy: 0.7620967741935484\n",
      "Precision: 0.7871327342137117\n",
      "Recall: 0.7620967741935484\n",
      "F1 Score: 0.773244756040455\n",
      "\n",
      "Classification Report on train data \n",
      "               precision    recall  f1-score   support\n",
      "\n",
      "           0       1.00      1.00      1.00       807\n",
      "           1       1.00      1.00      1.00       183\n",
      "\n",
      "    accuracy                           1.00       990\n",
      "   macro avg       1.00      1.00      1.00       990\n",
      "weighted avg       1.00      1.00      1.00       990\n",
      "\n",
      "\n",
      "Classification Report on test data \n",
      "               precision    recall  f1-score   support\n",
      "\n",
      "           0       0.88      0.83      0.85       208\n",
      "           1       0.31      0.40      0.35        40\n",
      "\n",
      "    accuracy                           0.76       248\n",
      "   macro avg       0.60      0.62      0.60       248\n",
      "weighted avg       0.79      0.76      0.77       248\n",
      "\n",
      "\n",
      "**************************************************\n"
     ]
    }
   ],
   "source": [
    "model_train_and_score(ada_tuned_DT, X_train, y_train, X_test, y_test)"
   ]
  },
  {
   "cell_type": "code",
   "execution_count": 103,
   "id": "d8ca8661",
   "metadata": {},
   "outputs": [],
   "source": [
    "bag_tuned_LR = BaggingClassifier(LogisticRegression(), random_state = 53)"
   ]
  },
  {
   "cell_type": "code",
   "execution_count": 104,
   "id": "14aad0e4",
   "metadata": {},
   "outputs": [
    {
     "name": "stdout",
     "output_type": "stream",
     "text": [
      "**************************************************\n",
      "________BaggingClassifier__________\n",
      "\n",
      "Accuracy: 0.8548387096774194\n",
      "Precision: 0.8338177665896763\n",
      "Recall: 0.8548387096774194\n",
      "F1 Score: 0.836777166641891\n",
      "\n",
      "Classification Report on train data \n",
      "               precision    recall  f1-score   support\n",
      "\n",
      "           0       0.85      0.97      0.90       807\n",
      "           1       0.60      0.22      0.33       183\n",
      "\n",
      "    accuracy                           0.83       990\n",
      "   macro avg       0.72      0.60      0.61       990\n",
      "weighted avg       0.80      0.83      0.80       990\n",
      "\n",
      "\n",
      "Classification Report on test data \n",
      "               precision    recall  f1-score   support\n",
      "\n",
      "           0       0.88      0.96      0.92       208\n",
      "           1       0.59      0.33      0.42        40\n",
      "\n",
      "    accuracy                           0.85       248\n",
      "   macro avg       0.74      0.64      0.67       248\n",
      "weighted avg       0.83      0.85      0.84       248\n",
      "\n",
      "\n",
      "**************************************************\n"
     ]
    }
   ],
   "source": [
    "model_train_and_score(bag_tuned_LR, X_train, y_train, X_test, y_test)"
   ]
  },
  {
   "cell_type": "code",
   "execution_count": 105,
   "id": "e426f183",
   "metadata": {},
   "outputs": [],
   "source": [
    "from sklearn.ensemble import VotingClassifier,StackingClassifier\n",
    "\n",
    "estimator = [('RF',RandomForestClassifier()),\n",
    "             ('Tuned AdaBoost Clssifier',Tuned_AdaBoost),('Xgb',XGBClassifier())]"
   ]
  },
  {
   "cell_type": "code",
   "execution_count": 107,
   "id": "ca9f581a",
   "metadata": {},
   "outputs": [
    {
     "name": "stdout",
     "output_type": "stream",
     "text": [
      "**************************************************\n",
      "________VotingClassifier__________\n",
      "\n",
      "Accuracy: 0.842741935483871\n",
      "Precision: 0.8350316955496419\n",
      "Recall: 0.842741935483871\n",
      "F1 Score: 0.8384338364876254\n",
      "\n",
      "Classification Report on train data \n",
      "               precision    recall  f1-score   support\n",
      "\n",
      "           0       1.00      1.00      1.00       807\n",
      "           1       1.00      1.00      1.00       183\n",
      "\n",
      "    accuracy                           1.00       990\n",
      "   macro avg       1.00      1.00      1.00       990\n",
      "weighted avg       1.00      1.00      1.00       990\n",
      "\n",
      "\n",
      "Classification Report on test data \n",
      "               precision    recall  f1-score   support\n",
      "\n",
      "           0       0.90      0.92      0.91       208\n",
      "           1       0.51      0.45      0.48        40\n",
      "\n",
      "    accuracy                           0.84       248\n",
      "   macro avg       0.71      0.68      0.69       248\n",
      "weighted avg       0.84      0.84      0.84       248\n",
      "\n",
      "\n",
      "**************************************************\n"
     ]
    }
   ],
   "source": [
    "vot = VotingClassifier(estimators=estimator,voting='soft')\n",
    "model_train_and_score(vot,X_train, y_train, X_test, y_test)"
   ]
  },
  {
   "cell_type": "code",
   "execution_count": 108,
   "id": "dac09e58",
   "metadata": {},
   "outputs": [],
   "source": [
    "model_accuracy_score('Tuned Logistic Regression', tuned_LR, X_train, y_train, X_test, y_test)"
   ]
  },
  {
   "cell_type": "code",
   "execution_count": 109,
   "id": "a23f71ca",
   "metadata": {},
   "outputs": [],
   "source": [
    "model_accuracy_score('Tuned Decision Tree', Tuned_DT, X_train, y_train, X_test, y_test)"
   ]
  },
  {
   "cell_type": "code",
   "execution_count": 110,
   "id": "03f307f7",
   "metadata": {},
   "outputs": [],
   "source": [
    "model_accuracy_score('Tuned Random Forest', Tuned_Random_forest, X_train, y_train, X_test, y_test)"
   ]
  },
  {
   "cell_type": "code",
   "execution_count": 111,
   "id": "a3478b93",
   "metadata": {},
   "outputs": [],
   "source": [
    "model_accuracy_score('Tuned Bagging Clssifier', tuned_bagging, X_train, y_train, X_test, y_test)"
   ]
  },
  {
   "cell_type": "code",
   "execution_count": 112,
   "id": "a35703e5",
   "metadata": {},
   "outputs": [],
   "source": [
    "model_accuracy_score('Tuned AdaBoost Clssifier', Tuned_AdaBoost, X_train, y_train, X_test, y_test)"
   ]
  },
  {
   "cell_type": "code",
   "execution_count": 113,
   "id": "0f35b000",
   "metadata": {},
   "outputs": [],
   "source": [
    "model_accuracy_score('Tuned XGBClssifier', tuned_xgb, X_train, y_train, X_test, y_test)"
   ]
  },
  {
   "cell_type": "code",
   "execution_count": 114,
   "id": "ae5b01cb",
   "metadata": {},
   "outputs": [],
   "source": [
    "model_accuracy_score('Boosted Logistic Regression', ada_tuned_LR, X_train, y_train, X_test, y_test)"
   ]
  },
  {
   "cell_type": "code",
   "execution_count": 115,
   "id": "4e94c1de",
   "metadata": {},
   "outputs": [],
   "source": [
    "model_accuracy_score('Boosted Decision Tree', ada_tuned_DT, X_train, y_train, X_test, y_test)"
   ]
  },
  {
   "cell_type": "code",
   "execution_count": 116,
   "id": "ff8f7364",
   "metadata": {},
   "outputs": [],
   "source": [
    "model_accuracy_score('Bagged Logistic Regression', bag_tuned_LR, X_train, y_train, X_test, y_test)"
   ]
  },
  {
   "cell_type": "code",
   "execution_count": 117,
   "id": "f529ea3f",
   "metadata": {},
   "outputs": [],
   "source": [
    "model_accuracy_score('Voting Classifier', vot, X_train, y_train, X_test, y_test)"
   ]
  },
  {
   "cell_type": "code",
   "execution_count": 118,
   "id": "d80fb7cc",
   "metadata": {},
   "outputs": [
    {
     "data": {
      "text/html": [
       "<div>\n",
       "<style scoped>\n",
       "    .dataframe tbody tr th:only-of-type {\n",
       "        vertical-align: middle;\n",
       "    }\n",
       "\n",
       "    .dataframe tbody tr th {\n",
       "        vertical-align: top;\n",
       "    }\n",
       "\n",
       "    .dataframe thead th {\n",
       "        text-align: right;\n",
       "    }\n",
       "</style>\n",
       "<table border=\"1\" class=\"dataframe\">\n",
       "  <thead>\n",
       "    <tr style=\"text-align: right;\">\n",
       "      <th></th>\n",
       "      <th>Model</th>\n",
       "      <th>Precision</th>\n",
       "      <th>Recall</th>\n",
       "      <th>F1_score</th>\n",
       "      <th>Train_Accuracy</th>\n",
       "      <th>Test_Accuracy</th>\n",
       "      <th>Kappa_score</th>\n",
       "    </tr>\n",
       "  </thead>\n",
       "  <tbody>\n",
       "    <tr>\n",
       "      <th>0</th>\n",
       "      <td>Tuned Logistic Regression</td>\n",
       "      <td>0.818918</td>\n",
       "      <td>0.846774</td>\n",
       "      <td>0.821562</td>\n",
       "      <td>0.833333</td>\n",
       "      <td>0.846774</td>\n",
       "      <td>0.271941</td>\n",
       "    </tr>\n",
       "    <tr>\n",
       "      <th>1</th>\n",
       "      <td>Tuned Decision Tree</td>\n",
       "      <td>0.806311</td>\n",
       "      <td>0.838710</td>\n",
       "      <td>0.812171</td>\n",
       "      <td>0.842424</td>\n",
       "      <td>0.838710</td>\n",
       "      <td>0.233622</td>\n",
       "    </tr>\n",
       "    <tr>\n",
       "      <th>2</th>\n",
       "      <td>Tuned Random Forest</td>\n",
       "      <td>0.815518</td>\n",
       "      <td>0.846774</td>\n",
       "      <td>0.810353</td>\n",
       "      <td>0.847475</td>\n",
       "      <td>0.846774</td>\n",
       "      <td>0.210456</td>\n",
       "    </tr>\n",
       "    <tr>\n",
       "      <th>3</th>\n",
       "      <td>Tuned Bagging Clssifier</td>\n",
       "      <td>0.703434</td>\n",
       "      <td>0.838710</td>\n",
       "      <td>0.765139</td>\n",
       "      <td>0.815152</td>\n",
       "      <td>0.838710</td>\n",
       "      <td>0.000000</td>\n",
       "    </tr>\n",
       "    <tr>\n",
       "      <th>4</th>\n",
       "      <td>Tuned AdaBoost Clssifier</td>\n",
       "      <td>0.844011</td>\n",
       "      <td>0.854839</td>\n",
       "      <td>0.848144</td>\n",
       "      <td>1.000000</td>\n",
       "      <td>0.854839</td>\n",
       "      <td>0.416318</td>\n",
       "    </tr>\n",
       "    <tr>\n",
       "      <th>5</th>\n",
       "      <td>Tuned XGBClssifier</td>\n",
       "      <td>0.703434</td>\n",
       "      <td>0.838710</td>\n",
       "      <td>0.765139</td>\n",
       "      <td>0.815152</td>\n",
       "      <td>0.838710</td>\n",
       "      <td>0.000000</td>\n",
       "    </tr>\n",
       "    <tr>\n",
       "      <th>6</th>\n",
       "      <td>Boosted Logistic Regression</td>\n",
       "      <td>0.816151</td>\n",
       "      <td>0.842742</td>\n",
       "      <td>0.781507</td>\n",
       "      <td>0.819192</td>\n",
       "      <td>0.842742</td>\n",
       "      <td>0.072141</td>\n",
       "    </tr>\n",
       "    <tr>\n",
       "      <th>7</th>\n",
       "      <td>Boosted Decision Tree</td>\n",
       "      <td>0.787133</td>\n",
       "      <td>0.762097</td>\n",
       "      <td>0.773245</td>\n",
       "      <td>1.000000</td>\n",
       "      <td>0.762097</td>\n",
       "      <td>0.208568</td>\n",
       "    </tr>\n",
       "    <tr>\n",
       "      <th>8</th>\n",
       "      <td>Bagged Logistic Regression</td>\n",
       "      <td>0.833818</td>\n",
       "      <td>0.854839</td>\n",
       "      <td>0.836777</td>\n",
       "      <td>0.829293</td>\n",
       "      <td>0.854839</td>\n",
       "      <td>0.344301</td>\n",
       "    </tr>\n",
       "    <tr>\n",
       "      <th>9</th>\n",
       "      <td>Voting Classifier</td>\n",
       "      <td>0.843578</td>\n",
       "      <td>0.850806</td>\n",
       "      <td>0.846719</td>\n",
       "      <td>1.000000</td>\n",
       "      <td>0.850806</td>\n",
       "      <td>0.419241</td>\n",
       "    </tr>\n",
       "  </tbody>\n",
       "</table>\n",
       "</div>"
      ],
      "text/plain": [
       "                         Model  Precision    Recall  F1_score  Train_Accuracy  \\\n",
       "0    Tuned Logistic Regression   0.818918  0.846774  0.821562        0.833333   \n",
       "1          Tuned Decision Tree   0.806311  0.838710  0.812171        0.842424   \n",
       "2          Tuned Random Forest   0.815518  0.846774  0.810353        0.847475   \n",
       "3      Tuned Bagging Clssifier   0.703434  0.838710  0.765139        0.815152   \n",
       "4     Tuned AdaBoost Clssifier   0.844011  0.854839  0.848144        1.000000   \n",
       "5           Tuned XGBClssifier   0.703434  0.838710  0.765139        0.815152   \n",
       "6  Boosted Logistic Regression   0.816151  0.842742  0.781507        0.819192   \n",
       "7        Boosted Decision Tree   0.787133  0.762097  0.773245        1.000000   \n",
       "8   Bagged Logistic Regression   0.833818  0.854839  0.836777        0.829293   \n",
       "9            Voting Classifier   0.843578  0.850806  0.846719        1.000000   \n",
       "\n",
       "   Test_Accuracy  Kappa_score  \n",
       "0       0.846774     0.271941  \n",
       "1       0.838710     0.233622  \n",
       "2       0.846774     0.210456  \n",
       "3       0.838710     0.000000  \n",
       "4       0.854839     0.416318  \n",
       "5       0.838710     0.000000  \n",
       "6       0.842742     0.072141  \n",
       "7       0.762097     0.208568  \n",
       "8       0.854839     0.344301  \n",
       "9       0.850806     0.419241  "
      ]
     },
     "execution_count": 118,
     "metadata": {},
     "output_type": "execute_result"
    }
   ],
   "source": [
    "scorecard_tuned"
   ]
  },
  {
   "cell_type": "code",
   "execution_count": 119,
   "id": "bb6cd0e8",
   "metadata": {},
   "outputs": [],
   "source": [
    "models_tuned = []\n",
    "models_tuned.append(('Tuned Logistic Regression', tuned_LR))\n",
    "models_tuned.append(('Tuned Decision Tree', Tuned_DT))\n",
    "models_tuned.append(('Tuned Random Forest',Tuned_Random_forest))\n",
    "models_tuned.append(('Tuned Bagging Classifier',tuned_bagging))\n",
    "models_tuned.append(('Tuned Adaboost Classifier',Tuned_AdaBoost))\n",
    "models_tuned.append(('Tuned XGBClassifier',tuned_xgb))\n",
    "models_tuned.append(('Boosted Logistic Regression',ada_tuned_LR))\n",
    "models_tuned.append(('Boosted Decision Tree',ada_tuned_DT))\n",
    "models_tuned.append(('Bagged Logistic Regression',bag_tuned_LR))\n",
    "models_tuned.append(('Voting Classifier',vot))"
   ]
  },
  {
   "cell_type": "code",
   "execution_count": 120,
   "id": "73c02c97",
   "metadata": {},
   "outputs": [
    {
     "name": "stdout",
     "output_type": "stream",
     "text": [
      "Tuned Logistic Regression: Bias error: (0.214318) Variance error: (0.031371)\n",
      "Tuned Decision Tree: Bias error: (0.182417) Variance error: (0.010798)\n",
      "Tuned Random Forest: Bias error: (0.232395) Variance error: (0.010798)\n",
      "Tuned Bagging Classifier: Bias error: (0.267784) Variance error: (0.025611)\n",
      "Tuned Adaboost Classifier: Bias error: (0.166585) Variance error: (0.007747)\n",
      "Tuned XGBClassifier: Bias error: (0.267784) Variance error: (0.025611)\n",
      "Boosted Logistic Regression: Bias error: (0.240033) Variance error: (0.033878)\n",
      "Boosted Decision Tree: Bias error: (0.191142) Variance error: (0.033691)\n",
      "Bagged Logistic Regression: Bias error: (0.221226) Variance error: (0.022644)\n",
      "Voting Classifier: Bias error: (0.161670) Variance error: (0.010649)\n"
     ]
    }
   ],
   "source": [
    "results = []\n",
    "names = []\n",
    "for name, model in models_tuned:\n",
    "    kfold = KFold(shuffle=True,n_splits=3,random_state=0)\n",
    "    cv_results = cross_val_score(model, X_train, y_train, cv=kfold, scoring='f1_weighted')\n",
    "    results.append(cv_results)\n",
    "    names.append(name)\n",
    "    print(\"%s: Bias error: (%f) Variance error: (%f)\" % (name, 1-np.mean(cv_results),np.std(cv_results,ddof=1)))"
   ]
  },
  {
   "cell_type": "code",
   "execution_count": 123,
   "id": "ee866a2c",
   "metadata": {},
   "outputs": [],
   "source": [
    "from sklearn.model_selection import cross_val_score\n",
    "\n",
    "import time\n",
    "\n",
    "def model_evaluation(clf):\n",
    "    \n",
    "    clf = clf\n",
    "    \n",
    "    t_start = time.time()\n",
    "    clf = clf.fit(X_train, y_train)\n",
    "    t_end = time.time()\n",
    "    \n",
    "    c_start = time.time()     \n",
    "    accuracy  = cross_val_score(clf, X_train, y_train, cv = 3, scoring = 'accuracy')\n",
    "    f1_score = cross_val_score(clf, X_train, y_train, cv = 3, scoring = 'f1_macro')\n",
    "    c_end = time.time()    \n",
    "    \n",
    "    acc_mean = np.round(accuracy.mean() * 100, 2)\n",
    "    f1_mean = np.round(f1_score.mean() * 100, 2)\n",
    "    \n",
    "    t_time = np.round((t_end - t_start) / 60, 3)\n",
    "    c_time = np.round((c_end - c_start) / 60, 3)\n",
    "    \n",
    "    print(\"The accuracy score of this classifier on our training set is\", acc_mean,\"% and f1 score is\", f1_mean,\"% taking\", t_time,\"minutes to train and\", c_time,\n",
    "          \"minutes to evaluate cross validation and metric scores.\")"
   ]
  },
  {
   "cell_type": "code",
   "execution_count": 124,
   "id": "6993c872",
   "metadata": {},
   "outputs": [
    {
     "name": "stdout",
     "output_type": "stream",
     "text": [
      "The accuracy score of this classifier on our training set is 84.14 % and f1 score is 69.65 % taking 0.003 minutes to train and 0.025 minutes to evaluate cross validation and metric scores.\n"
     ]
    }
   ],
   "source": [
    "model_evaluation(RandomForestClassifier(n_jobs=-1, random_state = 53))"
   ]
  },
  {
   "cell_type": "code",
   "execution_count": 125,
   "id": "870a0ffb",
   "metadata": {},
   "outputs": [
    {
     "name": "stdout",
     "output_type": "stream",
     "text": [
      "The accuracy score of this classifier on our training set is 80.1 % and f1 score is 67.37 % taking 0.0 minutes to train and 0.001 minutes to evaluate cross validation and metric scores.\n"
     ]
    }
   ],
   "source": [
    "model_evaluation(DecisionTreeClassifier(random_state = 53))"
   ]
  },
  {
   "cell_type": "code",
   "execution_count": 126,
   "id": "deb295e1",
   "metadata": {},
   "outputs": [
    {
     "name": "stdout",
     "output_type": "stream",
     "text": [
      "The accuracy score of this classifier on our training set is 81.52 % and f1 score is 59.3 % taking 0.001 minutes to train and 0.002 minutes to evaluate cross validation and metric scores.\n"
     ]
    }
   ],
   "source": [
    "model_evaluation(LogisticRegression(random_state = 53))"
   ]
  },
  {
   "cell_type": "code",
   "execution_count": 127,
   "id": "f9c1f99a",
   "metadata": {},
   "outputs": [
    {
     "name": "stdout",
     "output_type": "stream",
     "text": [
      "The accuracy score of this classifier on our training set is 83.13 % and f1 score is 69.6 % taking 0.001 minutes to train and 0.006 minutes to evaluate cross validation and metric scores.\n"
     ]
    }
   ],
   "source": [
    "model_evaluation(AdaBoostClassifier(random_state = 53))"
   ]
  },
  {
   "cell_type": "code",
   "execution_count": 128,
   "id": "3b66acd1",
   "metadata": {},
   "outputs": [
    {
     "name": "stdout",
     "output_type": "stream",
     "text": [
      "The accuracy score of this classifier on our training set is 84.44 % and f1 score is 70.59 % taking 0.001 minutes to train and 0.002 minutes to evaluate cross validation and metric scores.\n"
     ]
    }
   ],
   "source": [
    "model_evaluation(BaggingClassifier(random_state = 53))"
   ]
  },
  {
   "cell_type": "code",
   "execution_count": 129,
   "id": "1394d590",
   "metadata": {},
   "outputs": [
    {
     "name": "stdout",
     "output_type": "stream",
     "text": [
      "The accuracy score of this classifier on our training set is 84.24 % and f1 score is 70.57 % taking 0.003 minutes to train and 0.012 minutes to evaluate cross validation and metric scores.\n"
     ]
    }
   ],
   "source": [
    "model_evaluation(GradientBoostingClassifier(random_state = 53))"
   ]
  },
  {
   "cell_type": "code",
   "execution_count": 130,
   "id": "1168ce4c",
   "metadata": {},
   "outputs": [
    {
     "name": "stdout",
     "output_type": "stream",
     "text": [
      "The accuracy score of this classifier on our training set is 84.34 % and f1 score is 70.77 % taking 0.002 minutes to train and 0.008 minutes to evaluate cross validation and metric scores.\n"
     ]
    }
   ],
   "source": [
    "model_evaluation(XGBClassifier(random_state = 53))"
   ]
  },
  {
   "cell_type": "code",
   "execution_count": 131,
   "id": "1e266f5b",
   "metadata": {},
   "outputs": [
    {
     "name": "stdout",
     "output_type": "stream",
     "text": [
      "The accuracy score of this classifier on our training set is 83.23 % and f1 score is 69.22 % taking 0.004 minutes to train and 0.007 minutes to evaluate cross validation and metric scores.\n"
     ]
    }
   ],
   "source": [
    "model_evaluation(LGBMClassifier(random_state = 53))"
   ]
  },
  {
   "cell_type": "code",
   "execution_count": 132,
   "id": "b1bb9b27",
   "metadata": {},
   "outputs": [
    {
     "name": "stdout",
     "output_type": "stream",
     "text": [
      "The accuracy score of this classifier on our training set is 83.74 % and f1 score is 68.34 % taking 0.003 minutes to train and 0.012 minutes to evaluate cross validation and metric scores.\n"
     ]
    }
   ],
   "source": [
    "model_evaluation(Tuned_AdaBoost)"
   ]
  },
  {
   "cell_type": "code",
   "execution_count": 133,
   "id": "64c598fd",
   "metadata": {},
   "outputs": [
    {
     "name": "stdout",
     "output_type": "stream",
     "text": [
      "The accuracy score of this classifier on our training set is 81.52 % and f1 score is 44.91 % taking 0.004 minutes to train and 0.011 minutes to evaluate cross validation and metric scores.\n"
     ]
    }
   ],
   "source": [
    "model_evaluation(tuned_xgb)"
   ]
  },
  {
   "cell_type": "code",
   "execution_count": 134,
   "id": "8f18c6ee",
   "metadata": {},
   "outputs": [
    {
     "name": "stdout",
     "output_type": "stream",
     "text": [
      "The accuracy score of this classifier on our training set is 84.75 % and f1 score is 70.54 % taking 0.006 minutes to train and 0.031 minutes to evaluate cross validation and metric scores.\n"
     ]
    }
   ],
   "source": [
    "model_evaluation(vot) "
   ]
  },
  {
   "cell_type": "code",
   "execution_count": 135,
   "id": "c7b5e528",
   "metadata": {},
   "outputs": [
    {
     "name": "stdout",
     "output_type": "stream",
     "text": [
      "The accuracy score of this classifier on our training set is 83.13 % and f1 score is 67.87 % taking 0.002 minutes to train and 0.008 minutes to evaluate cross validation and metric scores.\n"
     ]
    }
   ],
   "source": [
    "model_evaluation(ExtraTreesClassifier(random_state = 53))"
   ]
  },
  {
   "cell_type": "code",
   "execution_count": null,
   "id": "3acf1fbc",
   "metadata": {},
   "outputs": [],
   "source": []
  }
 ],
 "metadata": {
  "kernelspec": {
   "display_name": "Python 3 (ipykernel)",
   "language": "python",
   "name": "python3"
  },
  "language_info": {
   "codemirror_mode": {
    "name": "ipython",
    "version": 3
   },
   "file_extension": ".py",
   "mimetype": "text/x-python",
   "name": "python",
   "nbconvert_exporter": "python",
   "pygments_lexer": "ipython3",
   "version": "3.8.0"
  }
 },
 "nbformat": 4,
 "nbformat_minor": 5
}
